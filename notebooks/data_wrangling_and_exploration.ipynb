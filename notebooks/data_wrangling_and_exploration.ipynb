{
 "cells": [
  {
   "cell_type": "code",
   "execution_count": 1,
   "metadata": {},
   "outputs": [],
   "source": [
    "import os\n",
    "import matplotlib.pyplot as plt\n",
    "import pandas as pd\n",
    "import numpy as np\n",
    "import math as math\n",
    "import datetime as dt\n",
    "\n",
    "# import seaborn as sns\n",
    "import pandas as pd\n",
    "import geopandas as gpd\n",
    "from sodapy import Socrata\n",
    "import plotly.figure_factory as ff\n",
    "\n",
    "%load_ext lab_black"
   ]
  },
  {
   "cell_type": "code",
   "execution_count": 2,
   "metadata": {},
   "outputs": [
    {
     "name": "stderr",
     "output_type": "stream",
     "text": [
      "WARNING:root:Requests made without an app_token will be subject to strict throttling limits.\n"
     ]
    }
   ],
   "source": [
    "# client = Socrata(\"data.austintexas.gov\", None)\n",
    "# results = client.get(\"7d8e-dm7r\", limit=83000000)\n",
    "\n",
    "# # Convert to pandas DataFrame\n",
    "# df = pd.DataFrame.from_records(results)"
   ]
  },
  {
   "cell_type": "code",
   "execution_count": 3,
   "metadata": {},
   "outputs": [],
   "source": [
    "df = pd.read_csv(\"../data/Shared_Micromobility_Vehicle_Trips.csv\", low_memory=False)\n",
    "\n",
    "#df.to_csv(\"../data/Shared_Micromobility_Vehicle_Trips.csv\", index=False)"
   ]
  },
  {
   "cell_type": "code",
   "execution_count": 4,
   "metadata": {},
   "outputs": [
    {
     "data": {
      "text/html": [
       "<div>\n",
       "<style scoped>\n",
       "    .dataframe tbody tr th:only-of-type {\n",
       "        vertical-align: middle;\n",
       "    }\n",
       "\n",
       "    .dataframe tbody tr th {\n",
       "        vertical-align: top;\n",
       "    }\n",
       "\n",
       "    .dataframe thead th {\n",
       "        text-align: right;\n",
       "    }\n",
       "</style>\n",
       "<table border=\"1\" class=\"dataframe\">\n",
       "  <thead>\n",
       "    <tr style=\"text-align: right;\">\n",
       "      <th></th>\n",
       "      <th>trip_id</th>\n",
       "      <th>device_id</th>\n",
       "      <th>vehicle_type</th>\n",
       "      <th>trip_duration</th>\n",
       "      <th>trip_distance</th>\n",
       "      <th>start_time</th>\n",
       "      <th>end_time</th>\n",
       "      <th>modified_date</th>\n",
       "      <th>month</th>\n",
       "      <th>hour</th>\n",
       "      <th>day_of_week</th>\n",
       "      <th>council_district_start</th>\n",
       "      <th>council_district_end</th>\n",
       "      <th>year</th>\n",
       "      <th>census_geoid_start</th>\n",
       "      <th>census_geoid_end</th>\n",
       "    </tr>\n",
       "  </thead>\n",
       "  <tbody>\n",
       "    <tr>\n",
       "      <th>10218813</th>\n",
       "      <td>7508675a-38a8-4195-9260-b7f2507ccedd</td>\n",
       "      <td>faff7d65-ccd9-4c2a-9208-4d92aeee9920</td>\n",
       "      <td>scooter</td>\n",
       "      <td>551</td>\n",
       "      <td>1042.6570268422067</td>\n",
       "      <td>2021-01-18T01:45:00.000</td>\n",
       "      <td>2021-01-18T02:00:00.000</td>\n",
       "      <td>2021-01-19T02:16:17.000</td>\n",
       "      <td>1</td>\n",
       "      <td>2</td>\n",
       "      <td>0</td>\n",
       "      <td>1</td>\n",
       "      <td>9</td>\n",
       "      <td>2021</td>\n",
       "      <td>48453000901</td>\n",
       "      <td>48453001100</td>\n",
       "    </tr>\n",
       "    <tr>\n",
       "      <th>10218814</th>\n",
       "      <td>9d884348-ac4d-40ab-b0a4-6d5a1f0c2aeb</td>\n",
       "      <td>bb01f886-85e9-44d3-9c14-0c2b2c32c0cb</td>\n",
       "      <td>scooter</td>\n",
       "      <td>935</td>\n",
       "      <td>4145.704281096752</td>\n",
       "      <td>2021-01-18T02:15:00.000</td>\n",
       "      <td>2021-01-18T02:30:00.000</td>\n",
       "      <td>2021-01-19T03:16:24.000</td>\n",
       "      <td>1</td>\n",
       "      <td>2</td>\n",
       "      <td>0</td>\n",
       "      <td>9</td>\n",
       "      <td>9</td>\n",
       "      <td>2021</td>\n",
       "      <td>48453001305</td>\n",
       "      <td>48453001100</td>\n",
       "    </tr>\n",
       "    <tr>\n",
       "      <th>10218815</th>\n",
       "      <td>d9eea601-06de-4866-b762-20f1529a7af2</td>\n",
       "      <td>1f1e62a7-a150-45a5-9e40-179241943396</td>\n",
       "      <td>scooter</td>\n",
       "      <td>74</td>\n",
       "      <td>227.18649382050472</td>\n",
       "      <td>2021-01-18T02:15:00.000</td>\n",
       "      <td>2021-01-18T02:15:00.000</td>\n",
       "      <td>2021-01-19T03:16:28.000</td>\n",
       "      <td>1</td>\n",
       "      <td>2</td>\n",
       "      <td>0</td>\n",
       "      <td>9</td>\n",
       "      <td>9</td>\n",
       "      <td>2021</td>\n",
       "      <td>48453001100</td>\n",
       "      <td>48453001100</td>\n",
       "    </tr>\n",
       "    <tr>\n",
       "      <th>10218816</th>\n",
       "      <td>f5e9b71a-34d2-4e01-afb9-1da5ccb29743</td>\n",
       "      <td>10c19a71-e3b8-452f-be0b-581365ae1a95</td>\n",
       "      <td>scooter</td>\n",
       "      <td>78</td>\n",
       "      <td>179.85522634767358</td>\n",
       "      <td>2021-01-18T02:15:00.000</td>\n",
       "      <td>2021-01-18T02:15:00.000</td>\n",
       "      <td>2021-01-19T03:16:26.000</td>\n",
       "      <td>1</td>\n",
       "      <td>2</td>\n",
       "      <td>0</td>\n",
       "      <td>9</td>\n",
       "      <td>9</td>\n",
       "      <td>2021</td>\n",
       "      <td>48453001200</td>\n",
       "      <td>48453001200</td>\n",
       "    </tr>\n",
       "    <tr>\n",
       "      <th>10218817</th>\n",
       "      <td>e6a44faa-bbd5-4be6-a68c-ad35d0d1eb27</td>\n",
       "      <td>9d8c5315-2f52-425d-9337-a3e9126abcf8</td>\n",
       "      <td>scooter</td>\n",
       "      <td>348</td>\n",
       "      <td>1270.1931092395125</td>\n",
       "      <td>2021-01-18T02:15:00.000</td>\n",
       "      <td>2021-01-18T02:15:00.000</td>\n",
       "      <td>2021-01-19T03:16:24.000</td>\n",
       "      <td>1</td>\n",
       "      <td>2</td>\n",
       "      <td>0</td>\n",
       "      <td>9</td>\n",
       "      <td>9</td>\n",
       "      <td>2021</td>\n",
       "      <td>48453001305</td>\n",
       "      <td>48453001305</td>\n",
       "    </tr>\n",
       "  </tbody>\n",
       "</table>\n",
       "</div>"
      ],
      "text/plain": [
       "                                       trip_id  \\\n",
       "10218813  7508675a-38a8-4195-9260-b7f2507ccedd   \n",
       "10218814  9d884348-ac4d-40ab-b0a4-6d5a1f0c2aeb   \n",
       "10218815  d9eea601-06de-4866-b762-20f1529a7af2   \n",
       "10218816  f5e9b71a-34d2-4e01-afb9-1da5ccb29743   \n",
       "10218817  e6a44faa-bbd5-4be6-a68c-ad35d0d1eb27   \n",
       "\n",
       "                                     device_id vehicle_type trip_duration  \\\n",
       "10218813  faff7d65-ccd9-4c2a-9208-4d92aeee9920      scooter           551   \n",
       "10218814  bb01f886-85e9-44d3-9c14-0c2b2c32c0cb      scooter           935   \n",
       "10218815  1f1e62a7-a150-45a5-9e40-179241943396      scooter            74   \n",
       "10218816  10c19a71-e3b8-452f-be0b-581365ae1a95      scooter            78   \n",
       "10218817  9d8c5315-2f52-425d-9337-a3e9126abcf8      scooter           348   \n",
       "\n",
       "               trip_distance               start_time  \\\n",
       "10218813  1042.6570268422067  2021-01-18T01:45:00.000   \n",
       "10218814   4145.704281096752  2021-01-18T02:15:00.000   \n",
       "10218815  227.18649382050472  2021-01-18T02:15:00.000   \n",
       "10218816  179.85522634767358  2021-01-18T02:15:00.000   \n",
       "10218817  1270.1931092395125  2021-01-18T02:15:00.000   \n",
       "\n",
       "                         end_time            modified_date month hour  \\\n",
       "10218813  2021-01-18T02:00:00.000  2021-01-19T02:16:17.000     1    2   \n",
       "10218814  2021-01-18T02:30:00.000  2021-01-19T03:16:24.000     1    2   \n",
       "10218815  2021-01-18T02:15:00.000  2021-01-19T03:16:28.000     1    2   \n",
       "10218816  2021-01-18T02:15:00.000  2021-01-19T03:16:26.000     1    2   \n",
       "10218817  2021-01-18T02:15:00.000  2021-01-19T03:16:24.000     1    2   \n",
       "\n",
       "         day_of_week council_district_start council_district_end  year  \\\n",
       "10218813           0                      1                    9  2021   \n",
       "10218814           0                      9                    9  2021   \n",
       "10218815           0                      9                    9  2021   \n",
       "10218816           0                      9                    9  2021   \n",
       "10218817           0                      9                    9  2021   \n",
       "\n",
       "         census_geoid_start census_geoid_end  \n",
       "10218813        48453000901      48453001100  \n",
       "10218814        48453001305      48453001100  \n",
       "10218815        48453001100      48453001100  \n",
       "10218816        48453001200      48453001200  \n",
       "10218817        48453001305      48453001305  "
      ]
     },
     "execution_count": 4,
     "metadata": {},
     "output_type": "execute_result"
    }
   ],
   "source": [
    "df.tail()"
   ]
  },
  {
   "cell_type": "code",
   "execution_count": 5,
   "metadata": {},
   "outputs": [
    {
     "data": {
      "text/html": [
       "<div>\n",
       "<style scoped>\n",
       "    .dataframe tbody tr th:only-of-type {\n",
       "        vertical-align: middle;\n",
       "    }\n",
       "\n",
       "    .dataframe tbody tr th {\n",
       "        vertical-align: top;\n",
       "    }\n",
       "\n",
       "    .dataframe thead th {\n",
       "        text-align: right;\n",
       "    }\n",
       "</style>\n",
       "<table border=\"1\" class=\"dataframe\">\n",
       "  <thead>\n",
       "    <tr style=\"text-align: right;\">\n",
       "      <th></th>\n",
       "      <th>trip_id</th>\n",
       "      <th>device_id</th>\n",
       "      <th>vehicle_type</th>\n",
       "      <th>trip_duration</th>\n",
       "      <th>trip_distance</th>\n",
       "      <th>start_time</th>\n",
       "      <th>end_time</th>\n",
       "      <th>modified_date</th>\n",
       "      <th>month</th>\n",
       "      <th>hour</th>\n",
       "      <th>day_of_week</th>\n",
       "      <th>council_district_start</th>\n",
       "      <th>council_district_end</th>\n",
       "      <th>year</th>\n",
       "      <th>census_geoid_start</th>\n",
       "      <th>census_geoid_end</th>\n",
       "    </tr>\n",
       "  </thead>\n",
       "  <tbody>\n",
       "    <tr>\n",
       "      <th>count</th>\n",
       "      <td>10218818</td>\n",
       "      <td>10218818</td>\n",
       "      <td>10218818</td>\n",
       "      <td>10218818</td>\n",
       "      <td>10218818</td>\n",
       "      <td>10218818</td>\n",
       "      <td>10218818</td>\n",
       "      <td>10218818</td>\n",
       "      <td>10218818</td>\n",
       "      <td>10218818</td>\n",
       "      <td>10218818</td>\n",
       "      <td>10218684</td>\n",
       "      <td>10218684</td>\n",
       "      <td>10218818</td>\n",
       "      <td>10218683</td>\n",
       "      <td>10218683</td>\n",
       "    </tr>\n",
       "    <tr>\n",
       "      <th>unique</th>\n",
       "      <td>10218818</td>\n",
       "      <td>97719</td>\n",
       "      <td>3</td>\n",
       "      <td>17096</td>\n",
       "      <td>128204</td>\n",
       "      <td>92492</td>\n",
       "      <td>92577</td>\n",
       "      <td>544565</td>\n",
       "      <td>12</td>\n",
       "      <td>24</td>\n",
       "      <td>7</td>\n",
       "      <td>12</td>\n",
       "      <td>12</td>\n",
       "      <td>4</td>\n",
       "      <td>297</td>\n",
       "      <td>302</td>\n",
       "    </tr>\n",
       "    <tr>\n",
       "      <th>top</th>\n",
       "      <td>21d6092f-c9bb-4809-b90a-b56f27f3aeed</td>\n",
       "      <td>49b0ba01-7c8b-4504-b8b0-ff3380ffce83</td>\n",
       "      <td>scooter</td>\n",
       "      <td>240</td>\n",
       "      <td>0</td>\n",
       "      <td>2019-03-16T16:45:00.000</td>\n",
       "      <td>2019-03-10T16:45:00.000</td>\n",
       "      <td>2019-04-17T02:35:02.000</td>\n",
       "      <td>10</td>\n",
       "      <td>17</td>\n",
       "      <td>6</td>\n",
       "      <td>9</td>\n",
       "      <td>9</td>\n",
       "      <td>2019</td>\n",
       "      <td>48453001100</td>\n",
       "      <td>48453001100</td>\n",
       "    </tr>\n",
       "    <tr>\n",
       "      <th>freq</th>\n",
       "      <td>1</td>\n",
       "      <td>848</td>\n",
       "      <td>9663486</td>\n",
       "      <td>19262</td>\n",
       "      <td>713316</td>\n",
       "      <td>1441</td>\n",
       "      <td>1372</td>\n",
       "      <td>13277</td>\n",
       "      <td>1268820</td>\n",
       "      <td>802771</td>\n",
       "      <td>2075110</td>\n",
       "      <td>8020715</td>\n",
       "      <td>7872064</td>\n",
       "      <td>6037995</td>\n",
       "      <td>4067259</td>\n",
       "      <td>3940126</td>\n",
       "    </tr>\n",
       "  </tbody>\n",
       "</table>\n",
       "</div>"
      ],
      "text/plain": [
       "                                     trip_id  \\\n",
       "count                               10218818   \n",
       "unique                              10218818   \n",
       "top     21d6092f-c9bb-4809-b90a-b56f27f3aeed   \n",
       "freq                                       1   \n",
       "\n",
       "                                   device_id vehicle_type trip_duration  \\\n",
       "count                               10218818     10218818      10218818   \n",
       "unique                                 97719            3         17096   \n",
       "top     49b0ba01-7c8b-4504-b8b0-ff3380ffce83      scooter           240   \n",
       "freq                                     848      9663486         19262   \n",
       "\n",
       "       trip_distance               start_time                 end_time  \\\n",
       "count       10218818                 10218818                 10218818   \n",
       "unique        128204                    92492                    92577   \n",
       "top                0  2019-03-16T16:45:00.000  2019-03-10T16:45:00.000   \n",
       "freq          713316                     1441                     1372   \n",
       "\n",
       "                  modified_date     month      hour day_of_week  \\\n",
       "count                  10218818  10218818  10218818    10218818   \n",
       "unique                   544565        12        24           7   \n",
       "top     2019-04-17T02:35:02.000        10        17           6   \n",
       "freq                      13277   1268820    802771     2075110   \n",
       "\n",
       "       council_district_start council_district_end      year  \\\n",
       "count                10218684             10218684  10218818   \n",
       "unique                     12                   12         4   \n",
       "top                         9                    9      2019   \n",
       "freq                  8020715              7872064   6037995   \n",
       "\n",
       "       census_geoid_start census_geoid_end  \n",
       "count            10218683         10218683  \n",
       "unique                297              302  \n",
       "top           48453001100      48453001100  \n",
       "freq              4067259          3940126  "
      ]
     },
     "execution_count": 5,
     "metadata": {},
     "output_type": "execute_result"
    }
   ],
   "source": [
    "df.describe()"
   ]
  },
  {
   "cell_type": "code",
   "execution_count": 6,
   "metadata": {},
   "outputs": [
    {
     "data": {
      "text/plain": [
       "(10218818, 16)"
      ]
     },
     "execution_count": 6,
     "metadata": {},
     "output_type": "execute_result"
    }
   ],
   "source": [
    "df.shape"
   ]
  },
  {
   "cell_type": "markdown",
   "metadata": {},
   "source": [
    "### Scooters Vs Bicycle Counts"
   ]
  },
  {
   "cell_type": "code",
   "execution_count": 7,
   "metadata": {},
   "outputs": [
    {
     "data": {
      "text/plain": [
       "scooter    9663486\n",
       "bicycle     465129\n",
       "moped        90203\n",
       "Name: vehicle_type, dtype: int64"
      ]
     },
     "execution_count": 7,
     "metadata": {},
     "output_type": "execute_result"
    }
   ],
   "source": [
    "df[\"vehicle_type\"].value_counts()"
   ]
  },
  {
   "cell_type": "markdown",
   "metadata": {},
   "source": [
    "### Year counts"
   ]
  },
  {
   "cell_type": "code",
   "execution_count": 8,
   "metadata": {},
   "outputs": [
    {
     "data": {
      "text/plain": [
       "2019    6037995\n",
       "2018    2305093\n",
       "2020    1796939\n",
       "2021      78791\n",
       "Name: year, dtype: int64"
      ]
     },
     "execution_count": 8,
     "metadata": {},
     "output_type": "execute_result"
    }
   ],
   "source": [
    "df[\"year\"].value_counts()"
   ]
  },
  {
   "cell_type": "markdown",
   "metadata": {},
   "source": [
    "### Find number of Null Values: "
   ]
  },
  {
   "cell_type": "code",
   "execution_count": 9,
   "metadata": {},
   "outputs": [
    {
     "data": {
      "text/html": [
       "<div>\n",
       "<style scoped>\n",
       "    .dataframe tbody tr th:only-of-type {\n",
       "        vertical-align: middle;\n",
       "    }\n",
       "\n",
       "    .dataframe tbody tr th {\n",
       "        vertical-align: top;\n",
       "    }\n",
       "\n",
       "    .dataframe thead th {\n",
       "        text-align: right;\n",
       "    }\n",
       "</style>\n",
       "<table border=\"1\" class=\"dataframe\">\n",
       "  <thead>\n",
       "    <tr style=\"text-align: right;\">\n",
       "      <th></th>\n",
       "      <th>trip_id</th>\n",
       "      <th>device_id</th>\n",
       "      <th>vehicle_type</th>\n",
       "      <th>trip_duration</th>\n",
       "      <th>trip_distance</th>\n",
       "      <th>start_time</th>\n",
       "      <th>end_time</th>\n",
       "      <th>modified_date</th>\n",
       "      <th>month</th>\n",
       "      <th>hour</th>\n",
       "      <th>day_of_week</th>\n",
       "      <th>council_district_start</th>\n",
       "      <th>council_district_end</th>\n",
       "      <th>year</th>\n",
       "      <th>census_geoid_start</th>\n",
       "      <th>census_geoid_end</th>\n",
       "    </tr>\n",
       "  </thead>\n",
       "  <tbody>\n",
       "    <tr>\n",
       "      <th>False</th>\n",
       "      <td>10218818.0</td>\n",
       "      <td>10218818.0</td>\n",
       "      <td>10218818.0</td>\n",
       "      <td>10218818.0</td>\n",
       "      <td>10218818.0</td>\n",
       "      <td>10218818.0</td>\n",
       "      <td>10218818.0</td>\n",
       "      <td>10218818.0</td>\n",
       "      <td>10218818.0</td>\n",
       "      <td>10218818.0</td>\n",
       "      <td>10218818.0</td>\n",
       "      <td>10218684</td>\n",
       "      <td>10218684</td>\n",
       "      <td>10218818.0</td>\n",
       "      <td>10218683</td>\n",
       "      <td>10218683</td>\n",
       "    </tr>\n",
       "    <tr>\n",
       "      <th>True</th>\n",
       "      <td>NaN</td>\n",
       "      <td>NaN</td>\n",
       "      <td>NaN</td>\n",
       "      <td>NaN</td>\n",
       "      <td>NaN</td>\n",
       "      <td>NaN</td>\n",
       "      <td>NaN</td>\n",
       "      <td>NaN</td>\n",
       "      <td>NaN</td>\n",
       "      <td>NaN</td>\n",
       "      <td>NaN</td>\n",
       "      <td>134</td>\n",
       "      <td>134</td>\n",
       "      <td>NaN</td>\n",
       "      <td>135</td>\n",
       "      <td>135</td>\n",
       "    </tr>\n",
       "  </tbody>\n",
       "</table>\n",
       "</div>"
      ],
      "text/plain": [
       "          trip_id   device_id  vehicle_type  trip_duration  trip_distance  \\\n",
       "False  10218818.0  10218818.0    10218818.0     10218818.0     10218818.0   \n",
       "True          NaN         NaN           NaN            NaN            NaN   \n",
       "\n",
       "       start_time    end_time  modified_date       month        hour  \\\n",
       "False  10218818.0  10218818.0     10218818.0  10218818.0  10218818.0   \n",
       "True          NaN         NaN            NaN         NaN         NaN   \n",
       "\n",
       "       day_of_week  council_district_start  council_district_end        year  \\\n",
       "False   10218818.0                10218684              10218684  10218818.0   \n",
       "True           NaN                     134                   134         NaN   \n",
       "\n",
       "       census_geoid_start  census_geoid_end  \n",
       "False            10218683          10218683  \n",
       "True                  135               135  "
      ]
     },
     "execution_count": 9,
     "metadata": {},
     "output_type": "execute_result"
    }
   ],
   "source": [
    "df.apply(lambda x: x.isnull().value_counts())"
   ]
  },
  {
   "cell_type": "code",
   "execution_count": 10,
   "metadata": {},
   "outputs": [],
   "source": [
    "df[\"trip_distance\"] = df[\"trip_distance\"].apply(float)"
   ]
  },
  {
   "cell_type": "code",
   "execution_count": null,
   "metadata": {},
   "outputs": [],
   "source": [
    "df = df.dropna()"
   ]
  },
  {
   "cell_type": "markdown",
   "metadata": {},
   "source": [
    "### Find all the 0 meters or negative meters trip distance values."
   ]
  },
  {
   "cell_type": "code",
   "execution_count": 14,
   "metadata": {},
   "outputs": [
    {
     "name": "stdout",
     "output_type": "stream",
     "text": [
      "Negative or 0m distance trips: 713984\n"
     ]
    }
   ],
   "source": [
    "rows = df.shape[0]\n",
    "\n",
    "trips_df = df[df[\"trip_distance\"] > 0]\n",
    "neg_0m_rows = rows - trips_df.shape[0]\n",
    "rows_remaining = trips_df.shape[0]\n",
    "print(\"Negative or 0m distance trips: \" + str(neg_0m_rows))"
   ]
  },
  {
   "cell_type": "code",
   "execution_count": 16,
   "metadata": {},
   "outputs": [
    {
     "data": {
      "text/plain": [
       "713984"
      ]
     },
     "execution_count": 16,
     "metadata": {},
     "output_type": "execute_result"
    }
   ],
   "source": [
    "len(df[df[\"trip_distance\"] <= 0])"
   ]
  },
  {
   "cell_type": "markdown",
   "metadata": {},
   "source": [
    "### Yearly Analysis"
   ]
  },
  {
   "cell_type": "code",
   "execution_count": 17,
   "metadata": {},
   "outputs": [],
   "source": [
    "year_count = df.groupby([\"year\"]).count()[\"trip_id\"]"
   ]
  },
  {
   "cell_type": "code",
   "execution_count": 18,
   "metadata": {},
   "outputs": [
    {
     "data": {
      "text/plain": [
       "year\n",
       "2018    2305093\n",
       "2019    6037995\n",
       "2020    1796939\n",
       "2021      78791\n",
       "Name: trip_id, dtype: int64"
      ]
     },
     "execution_count": 18,
     "metadata": {},
     "output_type": "execute_result"
    }
   ],
   "source": [
    "year_count"
   ]
  },
  {
   "cell_type": "code",
   "execution_count": 19,
   "metadata": {},
   "outputs": [],
   "source": [
    "year_df = df.groupby([\"year\", \"vehicle_type\"]).count()[\"trip_id\"]"
   ]
  },
  {
   "cell_type": "code",
   "execution_count": 20,
   "metadata": {},
   "outputs": [
    {
     "data": {
      "text/plain": [
       "year  vehicle_type\n",
       "2018  bicycle           76605\n",
       "      scooter         2228488\n",
       "2019  bicycle          340145\n",
       "      moped             14098\n",
       "      scooter         5683752\n",
       "2020  bicycle           44950\n",
       "      moped             76105\n",
       "      scooter         1675884\n",
       "2021  bicycle            3429\n",
       "      scooter           75362\n",
       "Name: trip_id, dtype: int64"
      ]
     },
     "execution_count": 20,
     "metadata": {},
     "output_type": "execute_result"
    }
   ],
   "source": [
    "year_df"
   ]
  },
  {
   "cell_type": "code",
   "execution_count": 12,
   "metadata": {},
   "outputs": [
    {
     "data": {
      "text/html": [
       "<div>\n",
       "<style scoped>\n",
       "    .dataframe tbody tr th:only-of-type {\n",
       "        vertical-align: middle;\n",
       "    }\n",
       "\n",
       "    .dataframe tbody tr th {\n",
       "        vertical-align: top;\n",
       "    }\n",
       "\n",
       "    .dataframe thead th {\n",
       "        text-align: right;\n",
       "    }\n",
       "</style>\n",
       "<table border=\"1\" class=\"dataframe\">\n",
       "  <thead>\n",
       "    <tr style=\"text-align: right;\">\n",
       "      <th></th>\n",
       "      <th>trip_id</th>\n",
       "      <th>device_id</th>\n",
       "      <th>vehicle_type</th>\n",
       "      <th>trip_duration</th>\n",
       "      <th>trip_distance</th>\n",
       "      <th>start_time</th>\n",
       "      <th>end_time</th>\n",
       "      <th>modified_date</th>\n",
       "      <th>month</th>\n",
       "      <th>hour</th>\n",
       "      <th>day_of_week</th>\n",
       "      <th>council_district_start</th>\n",
       "      <th>council_district_end</th>\n",
       "      <th>year</th>\n",
       "      <th>census_geoid_start</th>\n",
       "      <th>census_geoid_end</th>\n",
       "    </tr>\n",
       "  </thead>\n",
       "  <tbody>\n",
       "    <tr>\n",
       "      <th>False</th>\n",
       "      <td>10218818.0</td>\n",
       "      <td>10218818.0</td>\n",
       "      <td>10218818.0</td>\n",
       "      <td>10218818.0</td>\n",
       "      <td>10218818.0</td>\n",
       "      <td>10218818.0</td>\n",
       "      <td>10218818.0</td>\n",
       "      <td>10218818.0</td>\n",
       "      <td>10218818.0</td>\n",
       "      <td>10218818.0</td>\n",
       "      <td>10218818.0</td>\n",
       "      <td>10218684</td>\n",
       "      <td>10218684</td>\n",
       "      <td>10218818.0</td>\n",
       "      <td>10218683</td>\n",
       "      <td>10218683</td>\n",
       "    </tr>\n",
       "    <tr>\n",
       "      <th>True</th>\n",
       "      <td>NaN</td>\n",
       "      <td>NaN</td>\n",
       "      <td>NaN</td>\n",
       "      <td>NaN</td>\n",
       "      <td>NaN</td>\n",
       "      <td>NaN</td>\n",
       "      <td>NaN</td>\n",
       "      <td>NaN</td>\n",
       "      <td>NaN</td>\n",
       "      <td>NaN</td>\n",
       "      <td>NaN</td>\n",
       "      <td>134</td>\n",
       "      <td>134</td>\n",
       "      <td>NaN</td>\n",
       "      <td>135</td>\n",
       "      <td>135</td>\n",
       "    </tr>\n",
       "  </tbody>\n",
       "</table>\n",
       "</div>"
      ],
      "text/plain": [
       "          trip_id   device_id  vehicle_type  trip_duration  trip_distance  \\\n",
       "False  10218818.0  10218818.0    10218818.0     10218818.0     10218818.0   \n",
       "True          NaN         NaN           NaN            NaN            NaN   \n",
       "\n",
       "       start_time    end_time  modified_date       month        hour  \\\n",
       "False  10218818.0  10218818.0     10218818.0  10218818.0  10218818.0   \n",
       "True          NaN         NaN            NaN         NaN         NaN   \n",
       "\n",
       "       day_of_week  council_district_start  council_district_end        year  \\\n",
       "False   10218818.0                10218684              10218684  10218818.0   \n",
       "True           NaN                     134                   134         NaN   \n",
       "\n",
       "       census_geoid_start  census_geoid_end  \n",
       "False            10218683          10218683  \n",
       "True                  135               135  "
      ]
     },
     "execution_count": 12,
     "metadata": {},
     "output_type": "execute_result"
    }
   ],
   "source": [
    "df.apply(lambda x: x.isnull().value_counts())"
   ]
  },
  {
   "cell_type": "code",
   "execution_count": 21,
   "metadata": {},
   "outputs": [
    {
     "data": {
      "image/png": "[encoded data removed]",
      "text/plain": [
       "<Figure size 720x360 with 1 Axes>"
      ]
     },
     "metadata": {
      "needs_background": "light"
     },
     "output_type": "display_data"
    }
   ],
   "source": [
    "# Count trips per day and sort by day:\n",
    "daily_total = pd.DataFrame(df[\"day_of_week\"].value_counts().sort_index())\n",
    "\n",
    "# Map day of week with actual names:\n",
    "days = [\"Sunday\", \"Monday\", \"Tuesday\", \"Wednesday\", \"Thursday\", \"Friday\", \"Saturday\"]\n",
    "daily_total[\"Days\"] = days\n",
    "\n",
    "# Plot glyph:\n",
    "daily_total.plot(\n",
    "    kind=\"bar\",\n",
    "    x=\"Days\",\n",
    "    y=\"day_of_week\",\n",
    "    title=\"Total Trip Counts by Day of week for 3 years\",\n",
    "    figsize=(10, 5),\n",
    "    rot=30,\n",
    "    color=\"tab:brown\",\n",
    "    legend=False,\n",
    ")\n",
    "plt.ylabel(\"Number of Trips\")\n",
    "# plt.savefig(\"Plots/trips_per_week.png\")\n",
    "plt.show()"
   ]
  },
  {
   "cell_type": "code",
   "execution_count": 22,
   "metadata": {},
   "outputs": [
    {
     "data": {
      "text/html": [
       "<div>\n",
       "<style scoped>\n",
       "    .dataframe tbody tr th:only-of-type {\n",
       "        vertical-align: middle;\n",
       "    }\n",
       "\n",
       "    .dataframe tbody tr th {\n",
       "        vertical-align: top;\n",
       "    }\n",
       "\n",
       "    .dataframe thead th {\n",
       "        text-align: right;\n",
       "    }\n",
       "</style>\n",
       "<table border=\"1\" class=\"dataframe\">\n",
       "  <thead>\n",
       "    <tr style=\"text-align: right;\">\n",
       "      <th></th>\n",
       "      <th>trip_id</th>\n",
       "      <th>device_id</th>\n",
       "      <th>vehicle_type</th>\n",
       "      <th>trip_duration</th>\n",
       "      <th>trip_distance</th>\n",
       "      <th>start_time</th>\n",
       "      <th>end_time</th>\n",
       "      <th>modified_date</th>\n",
       "      <th>month</th>\n",
       "      <th>hour</th>\n",
       "      <th>day_of_week</th>\n",
       "      <th>council_district_start</th>\n",
       "      <th>council_district_end</th>\n",
       "      <th>year</th>\n",
       "      <th>census_geoid_start</th>\n",
       "      <th>census_geoid_end</th>\n",
       "    </tr>\n",
       "  </thead>\n",
       "  <tbody>\n",
       "    <tr>\n",
       "      <th>0</th>\n",
       "      <td>f33ffbe9-7462-4310-8d79-382842d4f374</td>\n",
       "      <td>61a22e55-d5b3-4fde-8d9a-ccaed12ce35c</td>\n",
       "      <td>scooter</td>\n",
       "      <td>2133</td>\n",
       "      <td>12794.0</td>\n",
       "      <td>2020-04-18T05:15:00.000</td>\n",
       "      <td>2020-04-18T05:45:00.000</td>\n",
       "      <td>2020-04-19T07:30:34.000</td>\n",
       "      <td>4</td>\n",
       "      <td>5</td>\n",
       "      <td>5</td>\n",
       "      <td>9</td>\n",
       "      <td>4</td>\n",
       "      <td>2020</td>\n",
       "      <td>48453001100</td>\n",
       "      <td>48453001806</td>\n",
       "    </tr>\n",
       "    <tr>\n",
       "      <th>1</th>\n",
       "      <td>ddf0fa7c-41e2-43c4-b7ea-e4b7a323be78</td>\n",
       "      <td>f07ddca9-59b3-4ac0-a02b-459a42f8b58b</td>\n",
       "      <td>scooter</td>\n",
       "      <td>197</td>\n",
       "      <td>917.0</td>\n",
       "      <td>2020-04-18T05:30:00.000</td>\n",
       "      <td>2020-04-18T05:45:00.000</td>\n",
       "      <td>2020-04-19T07:30:33.000</td>\n",
       "      <td>4</td>\n",
       "      <td>5</td>\n",
       "      <td>5</td>\n",
       "      <td>3</td>\n",
       "      <td>3</td>\n",
       "      <td>2020</td>\n",
       "      <td>48453000902</td>\n",
       "      <td>48453000902</td>\n",
       "    </tr>\n",
       "    <tr>\n",
       "      <th>2</th>\n",
       "      <td>2d895f0c-9586-4458-9e58-99cac4bc0191</td>\n",
       "      <td>8ced24e4-7396-4bd4-884a-fc7733ecfae3</td>\n",
       "      <td>scooter</td>\n",
       "      <td>721</td>\n",
       "      <td>3621.0</td>\n",
       "      <td>2020-04-18T05:15:00.000</td>\n",
       "      <td>2020-04-18T05:30:00.000</td>\n",
       "      <td>2020-04-19T07:30:33.000</td>\n",
       "      <td>4</td>\n",
       "      <td>5</td>\n",
       "      <td>5</td>\n",
       "      <td>9</td>\n",
       "      <td>1</td>\n",
       "      <td>2020</td>\n",
       "      <td>48453000304</td>\n",
       "      <td>48453002105</td>\n",
       "    </tr>\n",
       "    <tr>\n",
       "      <th>3</th>\n",
       "      <td>b180f674-0e1d-4d78-9838-2b20a45bf9d2</td>\n",
       "      <td>1ed7b1f7-a174-422e-a4a2-d688e59732a9</td>\n",
       "      <td>scooter</td>\n",
       "      <td>214</td>\n",
       "      <td>788.0</td>\n",
       "      <td>2020-04-18T05:15:00.000</td>\n",
       "      <td>2020-04-18T05:15:00.000</td>\n",
       "      <td>2020-04-19T07:30:33.000</td>\n",
       "      <td>4</td>\n",
       "      <td>5</td>\n",
       "      <td>5</td>\n",
       "      <td>5</td>\n",
       "      <td>5</td>\n",
       "      <td>2020</td>\n",
       "      <td>48453001901</td>\n",
       "      <td>48453001901</td>\n",
       "    </tr>\n",
       "    <tr>\n",
       "      <th>4</th>\n",
       "      <td>aa2bc2f8-fd08-4e58-85c4-90c44be2fe4d</td>\n",
       "      <td>4da13a13-db11-4610-a844-97a19d82fefa</td>\n",
       "      <td>scooter</td>\n",
       "      <td>622</td>\n",
       "      <td>3009.0</td>\n",
       "      <td>2020-04-18T05:00:00.000</td>\n",
       "      <td>2020-04-18T05:15:00.000</td>\n",
       "      <td>2020-04-19T07:30:33.000</td>\n",
       "      <td>4</td>\n",
       "      <td>5</td>\n",
       "      <td>5</td>\n",
       "      <td>9</td>\n",
       "      <td>9</td>\n",
       "      <td>2020</td>\n",
       "      <td>48453000601</td>\n",
       "      <td>48453000304</td>\n",
       "    </tr>\n",
       "  </tbody>\n",
       "</table>\n",
       "</div>"
      ],
      "text/plain": [
       "                                trip_id                             device_id  \\\n",
       "0  f33ffbe9-7462-4310-8d79-382842d4f374  61a22e55-d5b3-4fde-8d9a-ccaed12ce35c   \n",
       "1  ddf0fa7c-41e2-43c4-b7ea-e4b7a323be78  f07ddca9-59b3-4ac0-a02b-459a42f8b58b   \n",
       "2  2d895f0c-9586-4458-9e58-99cac4bc0191  8ced24e4-7396-4bd4-884a-fc7733ecfae3   \n",
       "3  b180f674-0e1d-4d78-9838-2b20a45bf9d2  1ed7b1f7-a174-422e-a4a2-d688e59732a9   \n",
       "4  aa2bc2f8-fd08-4e58-85c4-90c44be2fe4d  4da13a13-db11-4610-a844-97a19d82fefa   \n",
       "\n",
       "  vehicle_type trip_duration  trip_distance               start_time  \\\n",
       "0      scooter          2133        12794.0  2020-04-18T05:15:00.000   \n",
       "1      scooter           197          917.0  2020-04-18T05:30:00.000   \n",
       "2      scooter           721         3621.0  2020-04-18T05:15:00.000   \n",
       "3      scooter           214          788.0  2020-04-18T05:15:00.000   \n",
       "4      scooter           622         3009.0  2020-04-18T05:00:00.000   \n",
       "\n",
       "                  end_time            modified_date month hour day_of_week  \\\n",
       "0  2020-04-18T05:45:00.000  2020-04-19T07:30:34.000     4    5           5   \n",
       "1  2020-04-18T05:45:00.000  2020-04-19T07:30:33.000     4    5           5   \n",
       "2  2020-04-18T05:30:00.000  2020-04-19T07:30:33.000     4    5           5   \n",
       "3  2020-04-18T05:15:00.000  2020-04-19T07:30:33.000     4    5           5   \n",
       "4  2020-04-18T05:15:00.000  2020-04-19T07:30:33.000     4    5           5   \n",
       "\n",
       "  council_district_start council_district_end  year census_geoid_start  \\\n",
       "0                      9                    4  2020        48453001100   \n",
       "1                      3                    3  2020        48453000902   \n",
       "2                      9                    1  2020        48453000304   \n",
       "3                      5                    5  2020        48453001901   \n",
       "4                      9                    9  2020        48453000601   \n",
       "\n",
       "  census_geoid_end  \n",
       "0      48453001806  \n",
       "1      48453000902  \n",
       "2      48453002105  \n",
       "3      48453001901  \n",
       "4      48453000304  "
      ]
     },
     "execution_count": 22,
     "metadata": {},
     "output_type": "execute_result"
    }
   ],
   "source": [
    "two_years_df = df.loc[(df[\"year\"] == \"2019\") | (df[\"year\"] == \"2020\")]\n",
    "two_years_df.head()"
   ]
  },
  {
   "cell_type": "code",
   "execution_count": 23,
   "metadata": {},
   "outputs": [
    {
     "data": {
      "text/plain": [
       "(7834934, 16)"
      ]
     },
     "execution_count": 23,
     "metadata": {},
     "output_type": "execute_result"
    }
   ],
   "source": [
    "two_years_df.shape"
   ]
  },
  {
   "cell_type": "code",
   "execution_count": 24,
   "metadata": {},
   "outputs": [
    {
     "data": {
      "text/plain": [
       "year  vehicle_type\n",
       "2019  bicycle          340145\n",
       "      moped             14098\n",
       "      scooter         5683752\n",
       "2020  bicycle           44950\n",
       "      moped             76105\n",
       "      scooter         1675884\n",
       "Name: trip_id, dtype: int64"
      ]
     },
     "execution_count": 24,
     "metadata": {},
     "output_type": "execute_result"
    }
   ],
   "source": [
    "two_years_df.groupby([\"year\", \"vehicle_type\"]).count()[\"trip_id\"]"
   ]
  },
  {
   "cell_type": "markdown",
   "metadata": {},
   "source": []
  },
  {
   "cell_type": "markdown",
   "metadata": {},
   "source": [
    "### Split the data for 2019 and 2020"
   ]
  },
  {
   "cell_type": "code",
   "execution_count": 25,
   "metadata": {},
   "outputs": [],
   "source": [
    "year2019 = df.loc[(df[\"year\"] == \"2019\")]\n",
    "year2020 = df.loc[(df[\"year\"] == \"2020\")]"
   ]
  },
  {
   "cell_type": "code",
   "execution_count": 24,
   "metadata": {},
   "outputs": [
    {
     "data": {
      "text/plain": [
       "Series([], Name: trip_id, dtype: int64)"
      ]
     },
     "execution_count": 24,
     "metadata": {},
     "output_type": "execute_result"
    }
   ],
   "source": [
    "year2019.groupby([\"vehicle_type\"]).count()[\"trip_id\"]"
   ]
  },
  {
   "cell_type": "code",
   "execution_count": 25,
   "metadata": {},
   "outputs": [
    {
     "data": {
      "text/plain": [
       "Series([], Name: trip_id, dtype: int64)"
      ]
     },
     "execution_count": 25,
     "metadata": {},
     "output_type": "execute_result"
    }
   ],
   "source": [
    "year2020.groupby([\"vehicle_type\"]).count()[\"trip_id\"]"
   ]
  },
  {
   "cell_type": "code",
   "execution_count": 26,
   "metadata": {},
   "outputs": [
    {
     "data": {
      "text/plain": [
       "(0, 16)"
      ]
     },
     "execution_count": 26,
     "metadata": {},
     "output_type": "execute_result"
    }
   ],
   "source": [
    "year2019.shape"
   ]
  },
  {
   "cell_type": "code",
   "execution_count": 27,
   "metadata": {},
   "outputs": [
    {
     "data": {
      "text/plain": [
       "(0, 16)"
      ]
     },
     "execution_count": 27,
     "metadata": {},
     "output_type": "execute_result"
    }
   ],
   "source": [
    "year2020.shape"
   ]
  },
  {
   "cell_type": "code",
   "execution_count": 29,
   "metadata": {},
   "outputs": [],
   "source": [
    "year2019 = year2019.drop(\n",
    "    columns=[\"council_district_start\", \"council_district_end\", \"modified_date\"]\n",
    ")\n",
    "year2020 = year2020.drop(\n",
    "    columns=[\"council_district_start\", \"council_district_end\", \"modified_date\"]\n",
    ")"
   ]
  },
  {
   "cell_type": "code",
   "execution_count": 30,
   "metadata": {},
   "outputs": [],
   "source": [
    "year2019.to_csv(\"../data/2019data.csv\", index=False)\n",
    "year2020.to_csv(\"../data/2020data.csv\", index=False)"
   ]
  },
  {
   "cell_type": "code",
   "execution_count": 31,
   "metadata": {},
   "outputs": [],
   "source": [
    "#df.to_csv(\"../data/Shared_Micromobility_Vehicle_Trips.csv\", index=False)"
   ]
  },
  {
   "cell_type": "code",
   "execution_count": 31,
   "metadata": {},
   "outputs": [
    {
     "data": {
      "text/html": [
       "<div>\n",
       "<style scoped>\n",
       "    .dataframe tbody tr th:only-of-type {\n",
       "        vertical-align: middle;\n",
       "    }\n",
       "\n",
       "    .dataframe tbody tr th {\n",
       "        vertical-align: top;\n",
       "    }\n",
       "\n",
       "    .dataframe thead th {\n",
       "        text-align: right;\n",
       "    }\n",
       "</style>\n",
       "<table border=\"1\" class=\"dataframe\">\n",
       "  <thead>\n",
       "    <tr style=\"text-align: right;\">\n",
       "      <th></th>\n",
       "      <th>trip_id</th>\n",
       "      <th>device_id</th>\n",
       "      <th>vehicle_type</th>\n",
       "      <th>trip_duration</th>\n",
       "      <th>trip_distance</th>\n",
       "      <th>start_time</th>\n",
       "      <th>end_time</th>\n",
       "      <th>month</th>\n",
       "      <th>hour</th>\n",
       "      <th>day_of_week</th>\n",
       "      <th>year</th>\n",
       "      <th>census_geoid_start</th>\n",
       "      <th>census_geoid_end</th>\n",
       "    </tr>\n",
       "  </thead>\n",
       "  <tbody>\n",
       "    <tr>\n",
       "      <th>0</th>\n",
       "      <td>f33ffbe9-7462-4310-8d79-382842d4f374</td>\n",
       "      <td>61a22e55-d5b3-4fde-8d9a-ccaed12ce35c</td>\n",
       "      <td>scooter</td>\n",
       "      <td>2133</td>\n",
       "      <td>12794.0</td>\n",
       "      <td>2020-04-18T05:15:00.000</td>\n",
       "      <td>2020-04-18T05:45:00.000</td>\n",
       "      <td>4</td>\n",
       "      <td>5</td>\n",
       "      <td>5</td>\n",
       "      <td>2020</td>\n",
       "      <td>48453001100</td>\n",
       "      <td>48453001806</td>\n",
       "    </tr>\n",
       "    <tr>\n",
       "      <th>1</th>\n",
       "      <td>ddf0fa7c-41e2-43c4-b7ea-e4b7a323be78</td>\n",
       "      <td>f07ddca9-59b3-4ac0-a02b-459a42f8b58b</td>\n",
       "      <td>scooter</td>\n",
       "      <td>197</td>\n",
       "      <td>917.0</td>\n",
       "      <td>2020-04-18T05:30:00.000</td>\n",
       "      <td>2020-04-18T05:45:00.000</td>\n",
       "      <td>4</td>\n",
       "      <td>5</td>\n",
       "      <td>5</td>\n",
       "      <td>2020</td>\n",
       "      <td>48453000902</td>\n",
       "      <td>48453000902</td>\n",
       "    </tr>\n",
       "    <tr>\n",
       "      <th>2</th>\n",
       "      <td>2d895f0c-9586-4458-9e58-99cac4bc0191</td>\n",
       "      <td>8ced24e4-7396-4bd4-884a-fc7733ecfae3</td>\n",
       "      <td>scooter</td>\n",
       "      <td>721</td>\n",
       "      <td>3621.0</td>\n",
       "      <td>2020-04-18T05:15:00.000</td>\n",
       "      <td>2020-04-18T05:30:00.000</td>\n",
       "      <td>4</td>\n",
       "      <td>5</td>\n",
       "      <td>5</td>\n",
       "      <td>2020</td>\n",
       "      <td>48453000304</td>\n",
       "      <td>48453002105</td>\n",
       "    </tr>\n",
       "    <tr>\n",
       "      <th>3</th>\n",
       "      <td>b180f674-0e1d-4d78-9838-2b20a45bf9d2</td>\n",
       "      <td>1ed7b1f7-a174-422e-a4a2-d688e59732a9</td>\n",
       "      <td>scooter</td>\n",
       "      <td>214</td>\n",
       "      <td>788.0</td>\n",
       "      <td>2020-04-18T05:15:00.000</td>\n",
       "      <td>2020-04-18T05:15:00.000</td>\n",
       "      <td>4</td>\n",
       "      <td>5</td>\n",
       "      <td>5</td>\n",
       "      <td>2020</td>\n",
       "      <td>48453001901</td>\n",
       "      <td>48453001901</td>\n",
       "    </tr>\n",
       "    <tr>\n",
       "      <th>4</th>\n",
       "      <td>aa2bc2f8-fd08-4e58-85c4-90c44be2fe4d</td>\n",
       "      <td>4da13a13-db11-4610-a844-97a19d82fefa</td>\n",
       "      <td>scooter</td>\n",
       "      <td>622</td>\n",
       "      <td>3009.0</td>\n",
       "      <td>2020-04-18T05:00:00.000</td>\n",
       "      <td>2020-04-18T05:15:00.000</td>\n",
       "      <td>4</td>\n",
       "      <td>5</td>\n",
       "      <td>5</td>\n",
       "      <td>2020</td>\n",
       "      <td>48453000601</td>\n",
       "      <td>48453000304</td>\n",
       "    </tr>\n",
       "    <tr>\n",
       "      <th>...</th>\n",
       "      <td>...</td>\n",
       "      <td>...</td>\n",
       "      <td>...</td>\n",
       "      <td>...</td>\n",
       "      <td>...</td>\n",
       "      <td>...</td>\n",
       "      <td>...</td>\n",
       "      <td>...</td>\n",
       "      <td>...</td>\n",
       "      <td>...</td>\n",
       "      <td>...</td>\n",
       "      <td>...</td>\n",
       "      <td>...</td>\n",
       "    </tr>\n",
       "    <tr>\n",
       "      <th>10218800</th>\n",
       "      <td>8116d7e1-2412-474b-bf3b-c36b8305625d</td>\n",
       "      <td>ef2352da-c873-4b0c-83d6-95f15b33a23c</td>\n",
       "      <td>scooter</td>\n",
       "      <td>658</td>\n",
       "      <td>1420.0</td>\n",
       "      <td>2020-12-19T23:45:00.000</td>\n",
       "      <td>2020-12-20T00:00:00.000</td>\n",
       "      <td>12</td>\n",
       "      <td>0</td>\n",
       "      <td>6</td>\n",
       "      <td>2020</td>\n",
       "      <td>48453001305</td>\n",
       "      <td>48453001305</td>\n",
       "    </tr>\n",
       "    <tr>\n",
       "      <th>10218801</th>\n",
       "      <td>280d0745-4a9b-493c-80a2-e0fac0d6bb60</td>\n",
       "      <td>0cd6ed47-fcb2-460e-860a-61e38e605f72</td>\n",
       "      <td>scooter</td>\n",
       "      <td>372</td>\n",
       "      <td>2851.0</td>\n",
       "      <td>2020-12-19T23:45:00.000</td>\n",
       "      <td>2020-12-20T00:00:00.000</td>\n",
       "      <td>12</td>\n",
       "      <td>0</td>\n",
       "      <td>6</td>\n",
       "      <td>2020</td>\n",
       "      <td>48453001100</td>\n",
       "      <td>48453001100</td>\n",
       "    </tr>\n",
       "    <tr>\n",
       "      <th>10218802</th>\n",
       "      <td>29c9d50f-5371-4a24-955f-6a81dbd44bcb</td>\n",
       "      <td>2041b5d6-f94c-45cc-a88f-82b06400a8f3</td>\n",
       "      <td>scooter</td>\n",
       "      <td>369</td>\n",
       "      <td>1185.0</td>\n",
       "      <td>2020-12-19T23:45:00.000</td>\n",
       "      <td>2020-12-20T00:00:00.000</td>\n",
       "      <td>12</td>\n",
       "      <td>0</td>\n",
       "      <td>6</td>\n",
       "      <td>2020</td>\n",
       "      <td>48453001100</td>\n",
       "      <td>48453001100</td>\n",
       "    </tr>\n",
       "    <tr>\n",
       "      <th>10218803</th>\n",
       "      <td>1f113eb7-ba3c-4e7c-b503-1bdef61b846a</td>\n",
       "      <td>aa286afe-7edb-413d-a075-159e78a0cd36</td>\n",
       "      <td>scooter</td>\n",
       "      <td>481</td>\n",
       "      <td>2127.0</td>\n",
       "      <td>2020-12-19T23:45:00.000</td>\n",
       "      <td>2020-12-20T00:00:00.000</td>\n",
       "      <td>12</td>\n",
       "      <td>0</td>\n",
       "      <td>6</td>\n",
       "      <td>2020</td>\n",
       "      <td>48453001401</td>\n",
       "      <td>48453001100</td>\n",
       "    </tr>\n",
       "    <tr>\n",
       "      <th>10218804</th>\n",
       "      <td>d7f9bd8d-9b28-4d78-b48e-3fdeb176914c</td>\n",
       "      <td>f8504663-f72d-453c-8f4e-238e63d00733</td>\n",
       "      <td>scooter</td>\n",
       "      <td>277</td>\n",
       "      <td>987.0</td>\n",
       "      <td>2020-12-19T23:45:00.000</td>\n",
       "      <td>2020-12-20T00:00:00.000</td>\n",
       "      <td>12</td>\n",
       "      <td>0</td>\n",
       "      <td>6</td>\n",
       "      <td>2020</td>\n",
       "      <td>48453001100</td>\n",
       "      <td>48453001100</td>\n",
       "    </tr>\n",
       "  </tbody>\n",
       "</table>\n",
       "<p>1796939 rows × 13 columns</p>\n",
       "</div>"
      ],
      "text/plain": [
       "                                       trip_id  \\\n",
       "0         f33ffbe9-7462-4310-8d79-382842d4f374   \n",
       "1         ddf0fa7c-41e2-43c4-b7ea-e4b7a323be78   \n",
       "2         2d895f0c-9586-4458-9e58-99cac4bc0191   \n",
       "3         b180f674-0e1d-4d78-9838-2b20a45bf9d2   \n",
       "4         aa2bc2f8-fd08-4e58-85c4-90c44be2fe4d   \n",
       "...                                        ...   \n",
       "10218800  8116d7e1-2412-474b-bf3b-c36b8305625d   \n",
       "10218801  280d0745-4a9b-493c-80a2-e0fac0d6bb60   \n",
       "10218802  29c9d50f-5371-4a24-955f-6a81dbd44bcb   \n",
       "10218803  1f113eb7-ba3c-4e7c-b503-1bdef61b846a   \n",
       "10218804  d7f9bd8d-9b28-4d78-b48e-3fdeb176914c   \n",
       "\n",
       "                                     device_id vehicle_type trip_duration  \\\n",
       "0         61a22e55-d5b3-4fde-8d9a-ccaed12ce35c      scooter          2133   \n",
       "1         f07ddca9-59b3-4ac0-a02b-459a42f8b58b      scooter           197   \n",
       "2         8ced24e4-7396-4bd4-884a-fc7733ecfae3      scooter           721   \n",
       "3         1ed7b1f7-a174-422e-a4a2-d688e59732a9      scooter           214   \n",
       "4         4da13a13-db11-4610-a844-97a19d82fefa      scooter           622   \n",
       "...                                        ...          ...           ...   \n",
       "10218800  ef2352da-c873-4b0c-83d6-95f15b33a23c      scooter           658   \n",
       "10218801  0cd6ed47-fcb2-460e-860a-61e38e605f72      scooter           372   \n",
       "10218802  2041b5d6-f94c-45cc-a88f-82b06400a8f3      scooter           369   \n",
       "10218803  aa286afe-7edb-413d-a075-159e78a0cd36      scooter           481   \n",
       "10218804  f8504663-f72d-453c-8f4e-238e63d00733      scooter           277   \n",
       "\n",
       "          trip_distance               start_time                 end_time  \\\n",
       "0               12794.0  2020-04-18T05:15:00.000  2020-04-18T05:45:00.000   \n",
       "1                 917.0  2020-04-18T05:30:00.000  2020-04-18T05:45:00.000   \n",
       "2                3621.0  2020-04-18T05:15:00.000  2020-04-18T05:30:00.000   \n",
       "3                 788.0  2020-04-18T05:15:00.000  2020-04-18T05:15:00.000   \n",
       "4                3009.0  2020-04-18T05:00:00.000  2020-04-18T05:15:00.000   \n",
       "...                 ...                      ...                      ...   \n",
       "10218800         1420.0  2020-12-19T23:45:00.000  2020-12-20T00:00:00.000   \n",
       "10218801         2851.0  2020-12-19T23:45:00.000  2020-12-20T00:00:00.000   \n",
       "10218802         1185.0  2020-12-19T23:45:00.000  2020-12-20T00:00:00.000   \n",
       "10218803         2127.0  2020-12-19T23:45:00.000  2020-12-20T00:00:00.000   \n",
       "10218804          987.0  2020-12-19T23:45:00.000  2020-12-20T00:00:00.000   \n",
       "\n",
       "         month hour day_of_week  year census_geoid_start census_geoid_end  \n",
       "0            4    5           5  2020        48453001100      48453001806  \n",
       "1            4    5           5  2020        48453000902      48453000902  \n",
       "2            4    5           5  2020        48453000304      48453002105  \n",
       "3            4    5           5  2020        48453001901      48453001901  \n",
       "4            4    5           5  2020        48453000601      48453000304  \n",
       "...        ...  ...         ...   ...                ...              ...  \n",
       "10218800    12    0           6  2020        48453001305      48453001305  \n",
       "10218801    12    0           6  2020        48453001100      48453001100  \n",
       "10218802    12    0           6  2020        48453001100      48453001100  \n",
       "10218803    12    0           6  2020        48453001401      48453001100  \n",
       "10218804    12    0           6  2020        48453001100      48453001100  \n",
       "\n",
       "[1796939 rows x 13 columns]"
      ]
     },
     "execution_count": 31,
     "metadata": {},
     "output_type": "execute_result"
    }
   ],
   "source": [
    "year2020"
   ]
  },
  {
   "cell_type": "code",
   "execution_count": null,
   "metadata": {},
   "outputs": [],
   "source": []
  }
 ],
 "metadata": {
  "kernelspec": {
   "display_name": "DataAnalysis",
   "language": "python",
   "name": "python3"
  },
  "language_info": {
   "codemirror_mode": {
    "name": "ipython",
    "version": 3
   },
   "file_extension": ".py",
   "mimetype": "text/x-python",
   "name": "python",
   "nbconvert_exporter": "python",
   "pygments_lexer": "ipython3",
   "version": "3.8.0"
  }
 },
 "nbformat": 4,
 "nbformat_minor": 4
}
