{
 "cells": [
  {
   "cell_type": "code",
   "execution_count": 1,
   "metadata": {},
   "outputs": [],
   "source": [
    "import os\n",
    "import matplotlib.pyplot as plt\n",
    "import pandas as pd\n",
    "import numpy as np\n",
    "import math as math\n",
    "import datetime as dt\n",
    "\n",
    "# import seaborn as sns\n",
    "import pandas as pd\n",
    "import geopandas as gpd\n",
    "from sodapy import Socrata\n",
    "import plotly.figure_factory as ff\n",
    "\n",
    "%load_ext lab_black"
   ]
  },
  {
   "cell_type": "code",
   "execution_count": 32,
   "metadata": {},
   "outputs": [],
   "source": [
    "# client = Socrata(\"data.austintexas.gov\", None)\n",
    "# results = client.get(\"7d8e-dm7r\", limit=83000000)\n",
    "\n",
    "# Convert to pandas DataFrame\n",
    "# df = pd.DataFrame.from_records(results)"
   ]
  },
  {
   "cell_type": "code",
   "execution_count": 17,
   "metadata": {},
   "outputs": [],
   "source": [
    "df = pd.read_csv(\"../data/Shared_Micromobility_Vehicle_Trips.csv\", low_memory=False)\n",
    "\n",
    "#df.to_csv(\"../data/Shared_Micromobility_Vehicle_Trips.csv\", index=False)"
   ]
  },
  {
   "cell_type": "code",
   "execution_count": 10,
   "metadata": {},
   "outputs": [
    {
     "data": {
      "text/html": [
       "<div>\n",
       "<style scoped>\n",
       "    .dataframe tbody tr th:only-of-type {\n",
       "        vertical-align: middle;\n",
       "    }\n",
       "\n",
       "    .dataframe tbody tr th {\n",
       "        vertical-align: top;\n",
       "    }\n",
       "\n",
       "    .dataframe thead th {\n",
       "        text-align: right;\n",
       "    }\n",
       "</style>\n",
       "<table border=\"1\" class=\"dataframe\">\n",
       "  <thead>\n",
       "    <tr style=\"text-align: right;\">\n",
       "      <th></th>\n",
       "      <th>trip_id</th>\n",
       "      <th>device_id</th>\n",
       "      <th>vehicle_type</th>\n",
       "      <th>trip_duration</th>\n",
       "      <th>trip_distance</th>\n",
       "      <th>start_time</th>\n",
       "      <th>end_time</th>\n",
       "      <th>modified_date</th>\n",
       "      <th>month</th>\n",
       "      <th>hour</th>\n",
       "      <th>day_of_week</th>\n",
       "      <th>council_district_start</th>\n",
       "      <th>council_district_end</th>\n",
       "      <th>year</th>\n",
       "      <th>census_geoid_start</th>\n",
       "      <th>census_geoid_end</th>\n",
       "    </tr>\n",
       "  </thead>\n",
       "  <tbody>\n",
       "    <tr>\n",
       "      <th>9950881</th>\n",
       "      <td>856e419a-7f11-4fcb-af71-981798c760fe</td>\n",
       "      <td>b2982c20-0dbd-45b2-9903-8c012b909bfb</td>\n",
       "      <td>scooter</td>\n",
       "      <td>140</td>\n",
       "      <td>394</td>\n",
       "      <td>2020-11-11T02:00:00.000</td>\n",
       "      <td>2020-11-11T02:00:00.000</td>\n",
       "      <td>2020-11-12T03:16:29.000</td>\n",
       "      <td>11</td>\n",
       "      <td>2</td>\n",
       "      <td>2</td>\n",
       "      <td>9</td>\n",
       "      <td>9</td>\n",
       "      <td>2020</td>\n",
       "      <td>48453000603</td>\n",
       "      <td>48453000604</td>\n",
       "    </tr>\n",
       "    <tr>\n",
       "      <th>9950882</th>\n",
       "      <td>9ffdafa4-352b-45df-9f49-d4fff302ad93</td>\n",
       "      <td>6bd7645c-a5c4-4b1b-b328-0becbf50369b</td>\n",
       "      <td>scooter</td>\n",
       "      <td>269</td>\n",
       "      <td>1089</td>\n",
       "      <td>2020-11-11T01:45:00.000</td>\n",
       "      <td>2020-11-11T02:00:00.000</td>\n",
       "      <td>2020-11-12T03:16:39.000</td>\n",
       "      <td>11</td>\n",
       "      <td>2</td>\n",
       "      <td>2</td>\n",
       "      <td>9</td>\n",
       "      <td>9</td>\n",
       "      <td>2020</td>\n",
       "      <td>48453001100</td>\n",
       "      <td>48453001100</td>\n",
       "    </tr>\n",
       "    <tr>\n",
       "      <th>9950883</th>\n",
       "      <td>62919757-e234-48cc-848a-ca932d3d3c49</td>\n",
       "      <td>59178897-768d-4ec6-a874-df266dbad96e</td>\n",
       "      <td>scooter</td>\n",
       "      <td>287</td>\n",
       "      <td>1399</td>\n",
       "      <td>2020-11-11T01:45:00.000</td>\n",
       "      <td>2020-11-11T02:00:00.000</td>\n",
       "      <td>2020-11-12T03:16:46.000</td>\n",
       "      <td>11</td>\n",
       "      <td>2</td>\n",
       "      <td>2</td>\n",
       "      <td>3</td>\n",
       "      <td>3</td>\n",
       "      <td>2020</td>\n",
       "      <td>48453002316</td>\n",
       "      <td>48453002316</td>\n",
       "    </tr>\n",
       "    <tr>\n",
       "      <th>9950884</th>\n",
       "      <td>4d47e1c3-08ab-49ad-8e2c-d2d0be7dcb00</td>\n",
       "      <td>b2447d78-4e74-4cce-9d7c-4510d07e858f</td>\n",
       "      <td>scooter</td>\n",
       "      <td>119</td>\n",
       "      <td>16</td>\n",
       "      <td>2020-11-11T02:00:00.000</td>\n",
       "      <td>2020-11-11T02:00:00.000</td>\n",
       "      <td>2020-11-12T03:16:55.000</td>\n",
       "      <td>11</td>\n",
       "      <td>2</td>\n",
       "      <td>2</td>\n",
       "      <td>9</td>\n",
       "      <td>9</td>\n",
       "      <td>2020</td>\n",
       "      <td>48453000401</td>\n",
       "      <td>48453000401</td>\n",
       "    </tr>\n",
       "    <tr>\n",
       "      <th>9950885</th>\n",
       "      <td>7167723f-75f5-485e-8662-b1aedd98e8d9</td>\n",
       "      <td>797e528a-2bf1-41b4-ab99-259c2f7e6d32</td>\n",
       "      <td>scooter</td>\n",
       "      <td>287</td>\n",
       "      <td>0</td>\n",
       "      <td>2020-11-11T01:45:00.000</td>\n",
       "      <td>2020-11-11T02:00:00.000</td>\n",
       "      <td>2020-11-12T03:16:55.000</td>\n",
       "      <td>11</td>\n",
       "      <td>2</td>\n",
       "      <td>2</td>\n",
       "      <td>9</td>\n",
       "      <td>9</td>\n",
       "      <td>2020</td>\n",
       "      <td>48453001100</td>\n",
       "      <td>48453001100</td>\n",
       "    </tr>\n",
       "  </tbody>\n",
       "</table>\n",
       "</div>"
      ],
      "text/plain": [
       "                                      trip_id  \\\n",
       "9950881  856e419a-7f11-4fcb-af71-981798c760fe   \n",
       "9950882  9ffdafa4-352b-45df-9f49-d4fff302ad93   \n",
       "9950883  62919757-e234-48cc-848a-ca932d3d3c49   \n",
       "9950884  4d47e1c3-08ab-49ad-8e2c-d2d0be7dcb00   \n",
       "9950885  7167723f-75f5-485e-8662-b1aedd98e8d9   \n",
       "\n",
       "                                    device_id vehicle_type trip_duration  \\\n",
       "9950881  b2982c20-0dbd-45b2-9903-8c012b909bfb      scooter           140   \n",
       "9950882  6bd7645c-a5c4-4b1b-b328-0becbf50369b      scooter           269   \n",
       "9950883  59178897-768d-4ec6-a874-df266dbad96e      scooter           287   \n",
       "9950884  b2447d78-4e74-4cce-9d7c-4510d07e858f      scooter           119   \n",
       "9950885  797e528a-2bf1-41b4-ab99-259c2f7e6d32      scooter           287   \n",
       "\n",
       "        trip_distance               start_time                 end_time  \\\n",
       "9950881           394  2020-11-11T02:00:00.000  2020-11-11T02:00:00.000   \n",
       "9950882          1089  2020-11-11T01:45:00.000  2020-11-11T02:00:00.000   \n",
       "9950883          1399  2020-11-11T01:45:00.000  2020-11-11T02:00:00.000   \n",
       "9950884            16  2020-11-11T02:00:00.000  2020-11-11T02:00:00.000   \n",
       "9950885             0  2020-11-11T01:45:00.000  2020-11-11T02:00:00.000   \n",
       "\n",
       "                   modified_date month hour day_of_week  \\\n",
       "9950881  2020-11-12T03:16:29.000    11    2           2   \n",
       "9950882  2020-11-12T03:16:39.000    11    2           2   \n",
       "9950883  2020-11-12T03:16:46.000    11    2           2   \n",
       "9950884  2020-11-12T03:16:55.000    11    2           2   \n",
       "9950885  2020-11-12T03:16:55.000    11    2           2   \n",
       "\n",
       "        council_district_start council_district_end  year census_geoid_start  \\\n",
       "9950881                      9                    9  2020        48453000603   \n",
       "9950882                      9                    9  2020        48453001100   \n",
       "9950883                      3                    3  2020        48453002316   \n",
       "9950884                      9                    9  2020        48453000401   \n",
       "9950885                      9                    9  2020        48453001100   \n",
       "\n",
       "        census_geoid_end  \n",
       "9950881      48453000604  \n",
       "9950882      48453001100  \n",
       "9950883      48453002316  \n",
       "9950884      48453000401  \n",
       "9950885      48453001100  "
      ]
     },
     "execution_count": 10,
     "metadata": {},
     "output_type": "execute_result"
    }
   ],
   "source": [
    "df.tail()"
   ]
  },
  {
   "cell_type": "code",
   "execution_count": 11,
   "metadata": {},
   "outputs": [
    {
     "data": {
      "text/html": [
       "<div>\n",
       "<style scoped>\n",
       "    .dataframe tbody tr th:only-of-type {\n",
       "        vertical-align: middle;\n",
       "    }\n",
       "\n",
       "    .dataframe tbody tr th {\n",
       "        vertical-align: top;\n",
       "    }\n",
       "\n",
       "    .dataframe thead th {\n",
       "        text-align: right;\n",
       "    }\n",
       "</style>\n",
       "<table border=\"1\" class=\"dataframe\">\n",
       "  <thead>\n",
       "    <tr style=\"text-align: right;\">\n",
       "      <th></th>\n",
       "      <th>trip_id</th>\n",
       "      <th>device_id</th>\n",
       "      <th>vehicle_type</th>\n",
       "      <th>trip_duration</th>\n",
       "      <th>trip_distance</th>\n",
       "      <th>start_time</th>\n",
       "      <th>end_time</th>\n",
       "      <th>modified_date</th>\n",
       "      <th>month</th>\n",
       "      <th>hour</th>\n",
       "      <th>day_of_week</th>\n",
       "      <th>council_district_start</th>\n",
       "      <th>council_district_end</th>\n",
       "      <th>year</th>\n",
       "      <th>census_geoid_start</th>\n",
       "      <th>census_geoid_end</th>\n",
       "    </tr>\n",
       "  </thead>\n",
       "  <tbody>\n",
       "    <tr>\n",
       "      <th>count</th>\n",
       "      <td>9950886</td>\n",
       "      <td>9950886</td>\n",
       "      <td>9950886</td>\n",
       "      <td>9950886</td>\n",
       "      <td>9950886</td>\n",
       "      <td>9950886</td>\n",
       "      <td>9950886</td>\n",
       "      <td>9950886</td>\n",
       "      <td>9950886</td>\n",
       "      <td>9950886</td>\n",
       "      <td>9950886</td>\n",
       "      <td>9950752</td>\n",
       "      <td>9950752</td>\n",
       "      <td>9950886</td>\n",
       "      <td>9950751</td>\n",
       "      <td>9950751</td>\n",
       "    </tr>\n",
       "    <tr>\n",
       "      <th>unique</th>\n",
       "      <td>9950886</td>\n",
       "      <td>96999</td>\n",
       "      <td>3</td>\n",
       "      <td>16930</td>\n",
       "      <td>112061</td>\n",
       "      <td>86292</td>\n",
       "      <td>86368</td>\n",
       "      <td>493386</td>\n",
       "      <td>12</td>\n",
       "      <td>24</td>\n",
       "      <td>7</td>\n",
       "      <td>12</td>\n",
       "      <td>12</td>\n",
       "      <td>3</td>\n",
       "      <td>297</td>\n",
       "      <td>301</td>\n",
       "    </tr>\n",
       "    <tr>\n",
       "      <th>top</th>\n",
       "      <td>4bdcb369-8e1d-4c44-b082-b80d2ba49ecd</td>\n",
       "      <td>49b0ba01-7c8b-4504-b8b0-ff3380ffce83</td>\n",
       "      <td>scooter</td>\n",
       "      <td>240</td>\n",
       "      <td>0</td>\n",
       "      <td>2019-03-16T16:45:00.000</td>\n",
       "      <td>2019-03-10T16:45:00.000</td>\n",
       "      <td>2019-04-17T02:35:02.000</td>\n",
       "      <td>10</td>\n",
       "      <td>17</td>\n",
       "      <td>6</td>\n",
       "      <td>9</td>\n",
       "      <td>9</td>\n",
       "      <td>2019</td>\n",
       "      <td>48453001100</td>\n",
       "      <td>48453001100</td>\n",
       "    </tr>\n",
       "    <tr>\n",
       "      <th>freq</th>\n",
       "      <td>1</td>\n",
       "      <td>848</td>\n",
       "      <td>9410417</td>\n",
       "      <td>18346</td>\n",
       "      <td>676356</td>\n",
       "      <td>1441</td>\n",
       "      <td>1372</td>\n",
       "      <td>13277</td>\n",
       "      <td>1268820</td>\n",
       "      <td>792739</td>\n",
       "      <td>2010579</td>\n",
       "      <td>7813572</td>\n",
       "      <td>7666847</td>\n",
       "      <td>6037995</td>\n",
       "      <td>3938895</td>\n",
       "      <td>3814335</td>\n",
       "    </tr>\n",
       "  </tbody>\n",
       "</table>\n",
       "</div>"
      ],
      "text/plain": [
       "                                     trip_id  \\\n",
       "count                                9950886   \n",
       "unique                               9950886   \n",
       "top     4bdcb369-8e1d-4c44-b082-b80d2ba49ecd   \n",
       "freq                                       1   \n",
       "\n",
       "                                   device_id vehicle_type trip_duration  \\\n",
       "count                                9950886      9950886       9950886   \n",
       "unique                                 96999            3         16930   \n",
       "top     49b0ba01-7c8b-4504-b8b0-ff3380ffce83      scooter           240   \n",
       "freq                                     848      9410417         18346   \n",
       "\n",
       "       trip_distance               start_time                 end_time  \\\n",
       "count        9950886                  9950886                  9950886   \n",
       "unique        112061                    86292                    86368   \n",
       "top                0  2019-03-16T16:45:00.000  2019-03-10T16:45:00.000   \n",
       "freq          676356                     1441                     1372   \n",
       "\n",
       "                  modified_date    month     hour day_of_week  \\\n",
       "count                   9950886  9950886  9950886     9950886   \n",
       "unique                   493386       12       24           7   \n",
       "top     2019-04-17T02:35:02.000       10       17           6   \n",
       "freq                      13277  1268820   792739     2010579   \n",
       "\n",
       "       council_district_start council_district_end     year  \\\n",
       "count                 9950752              9950752  9950886   \n",
       "unique                     12                   12        3   \n",
       "top                         9                    9     2019   \n",
       "freq                  7813572              7666847  6037995   \n",
       "\n",
       "       census_geoid_start census_geoid_end  \n",
       "count             9950751          9950751  \n",
       "unique                297              301  \n",
       "top           48453001100      48453001100  \n",
       "freq              3938895          3814335  "
      ]
     },
     "execution_count": 11,
     "metadata": {},
     "output_type": "execute_result"
    }
   ],
   "source": [
    "df.describe()"
   ]
  },
  {
   "cell_type": "code",
   "execution_count": 12,
   "metadata": {},
   "outputs": [
    {
     "data": {
      "text/plain": [
       "(9950886, 16)"
      ]
     },
     "execution_count": 12,
     "metadata": {},
     "output_type": "execute_result"
    }
   ],
   "source": [
    "df.shape"
   ]
  },
  {
   "cell_type": "markdown",
   "metadata": {},
   "source": [
    "### Scooters Vs Bicycle Counts"
   ]
  },
  {
   "cell_type": "code",
   "execution_count": 14,
   "metadata": {},
   "outputs": [
    {
     "data": {
      "text/plain": [
       "scooter    9410417\n",
       "bicycle     453169\n",
       "moped        87300\n",
       "Name: vehicle_type, dtype: int64"
      ]
     },
     "execution_count": 14,
     "metadata": {},
     "output_type": "execute_result"
    }
   ],
   "source": [
    "df[\"vehicle_type\"].value_counts()"
   ]
  },
  {
   "cell_type": "markdown",
   "metadata": {},
   "source": [
    "### Year counts"
   ]
  },
  {
   "cell_type": "code",
   "execution_count": 15,
   "metadata": {},
   "outputs": [
    {
     "data": {
      "text/plain": [
       "2019    6037995\n",
       "2018    2305093\n",
       "2020    1607798\n",
       "Name: year, dtype: int64"
      ]
     },
     "execution_count": 15,
     "metadata": {},
     "output_type": "execute_result"
    }
   ],
   "source": [
    "df[\"year\"].value_counts()"
   ]
  },
  {
   "cell_type": "markdown",
   "metadata": {},
   "source": [
    "### Find number of Null Values: "
   ]
  },
  {
   "cell_type": "code",
   "execution_count": 18,
   "metadata": {},
   "outputs": [
    {
     "data": {
      "text/html": [
       "<div>\n",
       "<style scoped>\n",
       "    .dataframe tbody tr th:only-of-type {\n",
       "        vertical-align: middle;\n",
       "    }\n",
       "\n",
       "    .dataframe tbody tr th {\n",
       "        vertical-align: top;\n",
       "    }\n",
       "\n",
       "    .dataframe thead th {\n",
       "        text-align: right;\n",
       "    }\n",
       "</style>\n",
       "<table border=\"1\" class=\"dataframe\">\n",
       "  <thead>\n",
       "    <tr style=\"text-align: right;\">\n",
       "      <th></th>\n",
       "      <th>trip_id</th>\n",
       "      <th>device_id</th>\n",
       "      <th>vehicle_type</th>\n",
       "      <th>trip_duration</th>\n",
       "      <th>trip_distance</th>\n",
       "      <th>start_time</th>\n",
       "      <th>end_time</th>\n",
       "      <th>modified_date</th>\n",
       "      <th>month</th>\n",
       "      <th>hour</th>\n",
       "      <th>day_of_week</th>\n",
       "      <th>council_district_start</th>\n",
       "      <th>council_district_end</th>\n",
       "      <th>year</th>\n",
       "      <th>census_geoid_start</th>\n",
       "      <th>census_geoid_end</th>\n",
       "    </tr>\n",
       "  </thead>\n",
       "  <tbody>\n",
       "    <tr>\n",
       "      <th>False</th>\n",
       "      <td>9950886.0</td>\n",
       "      <td>9950886.0</td>\n",
       "      <td>9950886.0</td>\n",
       "      <td>9950886.0</td>\n",
       "      <td>9950886.0</td>\n",
       "      <td>9950886.0</td>\n",
       "      <td>9950886.0</td>\n",
       "      <td>9950886.0</td>\n",
       "      <td>9950886.0</td>\n",
       "      <td>9950886.0</td>\n",
       "      <td>9950886.0</td>\n",
       "      <td>9950752</td>\n",
       "      <td>9950752</td>\n",
       "      <td>9950886.0</td>\n",
       "      <td>9950751</td>\n",
       "      <td>9950751</td>\n",
       "    </tr>\n",
       "    <tr>\n",
       "      <th>True</th>\n",
       "      <td>NaN</td>\n",
       "      <td>NaN</td>\n",
       "      <td>NaN</td>\n",
       "      <td>NaN</td>\n",
       "      <td>NaN</td>\n",
       "      <td>NaN</td>\n",
       "      <td>NaN</td>\n",
       "      <td>NaN</td>\n",
       "      <td>NaN</td>\n",
       "      <td>NaN</td>\n",
       "      <td>NaN</td>\n",
       "      <td>134</td>\n",
       "      <td>134</td>\n",
       "      <td>NaN</td>\n",
       "      <td>135</td>\n",
       "      <td>135</td>\n",
       "    </tr>\n",
       "  </tbody>\n",
       "</table>\n",
       "</div>"
      ],
      "text/plain": [
       "         trip_id  device_id  vehicle_type  trip_duration  trip_distance  \\\n",
       "False  9950886.0  9950886.0     9950886.0      9950886.0      9950886.0   \n",
       "True         NaN        NaN           NaN            NaN            NaN   \n",
       "\n",
       "       start_time   end_time  modified_date      month       hour  \\\n",
       "False   9950886.0  9950886.0      9950886.0  9950886.0  9950886.0   \n",
       "True          NaN        NaN            NaN        NaN        NaN   \n",
       "\n",
       "       day_of_week  council_district_start  council_district_end       year  \\\n",
       "False    9950886.0                 9950752               9950752  9950886.0   \n",
       "True           NaN                     134                   134        NaN   \n",
       "\n",
       "       census_geoid_start  census_geoid_end  \n",
       "False             9950751           9950751  \n",
       "True                  135               135  "
      ]
     },
     "execution_count": 18,
     "metadata": {},
     "output_type": "execute_result"
    }
   ],
   "source": [
    "df.apply(lambda x: x.isnull().value_counts())"
   ]
  },
  {
   "cell_type": "code",
   "execution_count": 27,
   "metadata": {},
   "outputs": [],
   "source": [
    "df[\"trip_distance\"] = df[\"trip_distance\"].apply(float)"
   ]
  },
  {
   "cell_type": "code",
   "execution_count": 25,
   "metadata": {},
   "outputs": [],
   "source": [
    "df = df.dropna()"
   ]
  },
  {
   "cell_type": "markdown",
   "metadata": {},
   "source": [
    "### Find all the 0 meters or negative meters trip distance values."
   ]
  },
  {
   "cell_type": "code",
   "execution_count": 28,
   "metadata": {},
   "outputs": [
    {
     "name": "stdout",
     "output_type": "stream",
     "text": [
      "Negative or 0m distance trips: 676995\n"
     ]
    }
   ],
   "source": [
    "rows = df.shape[0]\n",
    "\n",
    "trips_df = df[df[\"trip_distance\"] > 0]\n",
    "neg_0m_rows = rows - trips_df.shape[0]\n",
    "rows_remaining = trips_df.shape[0]\n",
    "print(\"Negative or 0m distance trips: \" + str(neg_0m_rows))"
   ]
  },
  {
   "cell_type": "code",
   "execution_count": 29,
   "metadata": {},
   "outputs": [
    {
     "data": {
      "text/plain": [
       "676995"
      ]
     },
     "execution_count": 29,
     "metadata": {},
     "output_type": "execute_result"
    }
   ],
   "source": [
    "len(df[df[\"trip_distance\"] <= 0])"
   ]
  },
  {
   "cell_type": "markdown",
   "metadata": {},
   "source": [
    "### Yearly Analysis"
   ]
  },
  {
   "cell_type": "code",
   "execution_count": 33,
   "metadata": {},
   "outputs": [],
   "source": [
    "year_count = df.groupby([\"year\"]).count()[\"trip_id\"]"
   ]
  },
  {
   "cell_type": "code",
   "execution_count": 34,
   "metadata": {},
   "outputs": [
    {
     "data": {
      "text/plain": [
       "year\n",
       "2018    2305092\n",
       "2019    6037861\n",
       "2020    1607798\n",
       "Name: trip_id, dtype: int64"
      ]
     },
     "execution_count": 34,
     "metadata": {},
     "output_type": "execute_result"
    }
   ],
   "source": [
    "year_count"
   ]
  },
  {
   "cell_type": "code",
   "execution_count": 46,
   "metadata": {},
   "outputs": [],
   "source": [
    "year_df = df.groupby([\"year\", \"vehicle_type\"]).count()[\"trip_id\"]"
   ]
  },
  {
   "cell_type": "code",
   "execution_count": 47,
   "metadata": {},
   "outputs": [
    {
     "data": {
      "text/plain": [
       "year  vehicle_type\n",
       "2018  bicycle           76604\n",
       "      scooter         2228488\n",
       "2019  bicycle          340144\n",
       "      moped             14098\n",
       "      scooter         5683619\n",
       "2020  bicycle           36419\n",
       "      moped             73202\n",
       "      scooter         1498177\n",
       "Name: trip_id, dtype: int64"
      ]
     },
     "execution_count": 47,
     "metadata": {},
     "output_type": "execute_result"
    }
   ],
   "source": [
    "year_df"
   ]
  },
  {
   "cell_type": "code",
   "execution_count": 52,
   "metadata": {},
   "outputs": [
    {
     "data": {
      "text/html": [
       "<div>\n",
       "<style scoped>\n",
       "    .dataframe tbody tr th:only-of-type {\n",
       "        vertical-align: middle;\n",
       "    }\n",
       "\n",
       "    .dataframe tbody tr th {\n",
       "        vertical-align: top;\n",
       "    }\n",
       "\n",
       "    .dataframe thead th {\n",
       "        text-align: right;\n",
       "    }\n",
       "</style>\n",
       "<table border=\"1\" class=\"dataframe\">\n",
       "  <thead>\n",
       "    <tr style=\"text-align: right;\">\n",
       "      <th></th>\n",
       "      <th>trip_id</th>\n",
       "      <th>device_id</th>\n",
       "      <th>vehicle_type</th>\n",
       "      <th>trip_duration</th>\n",
       "      <th>trip_distance</th>\n",
       "      <th>start_time</th>\n",
       "      <th>end_time</th>\n",
       "      <th>modified_date</th>\n",
       "      <th>month</th>\n",
       "      <th>hour</th>\n",
       "      <th>day_of_week</th>\n",
       "      <th>council_district_start</th>\n",
       "      <th>council_district_end</th>\n",
       "      <th>year</th>\n",
       "      <th>census_geoid_start</th>\n",
       "      <th>census_geoid_end</th>\n",
       "    </tr>\n",
       "  </thead>\n",
       "  <tbody>\n",
       "    <tr>\n",
       "      <th>False</th>\n",
       "      <td>9950751</td>\n",
       "      <td>9950751</td>\n",
       "      <td>9950751</td>\n",
       "      <td>9950751</td>\n",
       "      <td>9950751</td>\n",
       "      <td>9950751</td>\n",
       "      <td>9950751</td>\n",
       "      <td>9950751</td>\n",
       "      <td>9950751</td>\n",
       "      <td>9950751</td>\n",
       "      <td>9950751</td>\n",
       "      <td>9950751</td>\n",
       "      <td>9950751</td>\n",
       "      <td>9950751</td>\n",
       "      <td>9950751</td>\n",
       "      <td>9950751</td>\n",
       "    </tr>\n",
       "  </tbody>\n",
       "</table>\n",
       "</div>"
      ],
      "text/plain": [
       "       trip_id  device_id  vehicle_type  trip_duration  trip_distance  \\\n",
       "False  9950751    9950751       9950751        9950751        9950751   \n",
       "\n",
       "       start_time  end_time  modified_date    month     hour  day_of_week  \\\n",
       "False     9950751   9950751        9950751  9950751  9950751      9950751   \n",
       "\n",
       "       council_district_start  council_district_end     year  \\\n",
       "False                 9950751               9950751  9950751   \n",
       "\n",
       "       census_geoid_start  census_geoid_end  \n",
       "False             9950751           9950751  "
      ]
     },
     "execution_count": 52,
     "metadata": {},
     "output_type": "execute_result"
    }
   ],
   "source": [
    "df.apply(lambda x: x.isnull().value_counts())"
   ]
  },
  {
   "cell_type": "code",
   "execution_count": 70,
   "metadata": {},
   "outputs": [
    {
     "data": {
      "image/png": "[encoded data removed]",
      "text/plain": [
       "<Figure size 720x360 with 1 Axes>"
      ]
     },
     "metadata": {
      "needs_background": "light"
     },
     "output_type": "display_data"
    }
   ],
   "source": [
    "# Count trips per day and sort by day:\n",
    "daily_total = pd.DataFrame(df[\"day_of_week\"].value_counts().sort_index())\n",
    "\n",
    "# Map day of week with actual names:\n",
    "days = [\"Sunday\", \"Monday\", \"Tuesday\", \"Wednesday\", \"Thursday\", \"Friday\", \"Saturday\"]\n",
    "daily_total[\"Days\"] = days\n",
    "\n",
    "# Plot glyph:\n",
    "daily_total.plot(\n",
    "    kind=\"bar\",\n",
    "    x=\"Days\",\n",
    "    y=\"day_of_week\",\n",
    "    title=\"Total Trip Counts by Day of week for 3 years\",\n",
    "    figsize=(10, 5),\n",
    "    rot=30,\n",
    "    color=\"tab:brown\",\n",
    "    legend=False,\n",
    ")\n",
    "plt.ylabel(\"Number of Trips\")\n",
    "# plt.savefig(\"Plots/trips_per_week.png\")\n",
    "plt.show()"
   ]
  },
  {
   "cell_type": "code",
   "execution_count": 76,
   "metadata": {},
   "outputs": [
    {
     "data": {
      "text/html": [
       "<div>\n",
       "<style scoped>\n",
       "    .dataframe tbody tr th:only-of-type {\n",
       "        vertical-align: middle;\n",
       "    }\n",
       "\n",
       "    .dataframe tbody tr th {\n",
       "        vertical-align: top;\n",
       "    }\n",
       "\n",
       "    .dataframe thead th {\n",
       "        text-align: right;\n",
       "    }\n",
       "</style>\n",
       "<table border=\"1\" class=\"dataframe\">\n",
       "  <thead>\n",
       "    <tr style=\"text-align: right;\">\n",
       "      <th></th>\n",
       "      <th>trip_id</th>\n",
       "      <th>device_id</th>\n",
       "      <th>vehicle_type</th>\n",
       "      <th>trip_duration</th>\n",
       "      <th>trip_distance</th>\n",
       "      <th>start_time</th>\n",
       "      <th>end_time</th>\n",
       "      <th>modified_date</th>\n",
       "      <th>month</th>\n",
       "      <th>hour</th>\n",
       "      <th>day_of_week</th>\n",
       "      <th>council_district_start</th>\n",
       "      <th>council_district_end</th>\n",
       "      <th>year</th>\n",
       "      <th>census_geoid_start</th>\n",
       "      <th>census_geoid_end</th>\n",
       "    </tr>\n",
       "  </thead>\n",
       "  <tbody>\n",
       "    <tr>\n",
       "      <th>777654</th>\n",
       "      <td>56ebfc5b-def6-4d6b-a2e4-b8495a072c1d</td>\n",
       "      <td>3c68ff46-80ee-4580-b8da-3ba8099a8a82</td>\n",
       "      <td>moped</td>\n",
       "      <td>2382</td>\n",
       "      <td>10781.0</td>\n",
       "      <td>2020-10-04T23:45:00.000</td>\n",
       "      <td>2020-10-05T00:30:00.000</td>\n",
       "      <td>2020-11-02T19:41:42.000</td>\n",
       "      <td>10</td>\n",
       "      <td>0</td>\n",
       "      <td>0</td>\n",
       "      <td>3</td>\n",
       "      <td>9</td>\n",
       "      <td>2020</td>\n",
       "      <td>48453000902</td>\n",
       "      <td>48453001100</td>\n",
       "    </tr>\n",
       "    <tr>\n",
       "      <th>779015</th>\n",
       "      <td>3b4a99c4-2f7e-4af6-a04e-6453705907b9</td>\n",
       "      <td>b6fc8240-397e-46ce-82a1-22537bb33556</td>\n",
       "      <td>moped</td>\n",
       "      <td>972</td>\n",
       "      <td>5958.0</td>\n",
       "      <td>2020-10-05T00:30:00.000</td>\n",
       "      <td>2020-10-05T00:45:00.000</td>\n",
       "      <td>2020-11-02T19:41:42.000</td>\n",
       "      <td>10</td>\n",
       "      <td>0</td>\n",
       "      <td>0</td>\n",
       "      <td>3</td>\n",
       "      <td>9</td>\n",
       "      <td>2020</td>\n",
       "      <td>48453000801</td>\n",
       "      <td>48453001100</td>\n",
       "    </tr>\n",
       "    <tr>\n",
       "      <th>791125</th>\n",
       "      <td>bc0d9944-5df8-4645-8a0c-70849b0b6d1a</td>\n",
       "      <td>89759b3a-83ab-4f68-bf6e-1cc229429134</td>\n",
       "      <td>moped</td>\n",
       "      <td>375</td>\n",
       "      <td>1601.0</td>\n",
       "      <td>2020-10-05T00:45:00.000</td>\n",
       "      <td>2020-10-05T00:45:00.000</td>\n",
       "      <td>2020-11-02T19:41:43.000</td>\n",
       "      <td>10</td>\n",
       "      <td>0</td>\n",
       "      <td>0</td>\n",
       "      <td>3</td>\n",
       "      <td>3</td>\n",
       "      <td>2020</td>\n",
       "      <td>48453002316</td>\n",
       "      <td>48453002315</td>\n",
       "    </tr>\n",
       "    <tr>\n",
       "      <th>818779</th>\n",
       "      <td>3961a21b-056c-4e77-af0d-b9ad9f0fd491</td>\n",
       "      <td>89759b3a-83ab-4f68-bf6e-1cc229429134</td>\n",
       "      <td>moped</td>\n",
       "      <td>23</td>\n",
       "      <td>0.0</td>\n",
       "      <td>2020-10-05T00:45:00.000</td>\n",
       "      <td>2020-10-05T00:45:00.000</td>\n",
       "      <td>2020-11-02T19:41:43.000</td>\n",
       "      <td>10</td>\n",
       "      <td>0</td>\n",
       "      <td>0</td>\n",
       "      <td>3</td>\n",
       "      <td>3</td>\n",
       "      <td>2020</td>\n",
       "      <td>48453002315</td>\n",
       "      <td>48453002315</td>\n",
       "    </tr>\n",
       "    <tr>\n",
       "      <th>822691</th>\n",
       "      <td>32b57dd3-08b8-4a21-a9c8-1ffc794e3eb8</td>\n",
       "      <td>5aefb7d6-3fb9-4019-aa26-9238b1a1ac10</td>\n",
       "      <td>moped</td>\n",
       "      <td>867</td>\n",
       "      <td>3840.0</td>\n",
       "      <td>2020-10-05T00:45:00.000</td>\n",
       "      <td>2020-10-05T01:00:00.000</td>\n",
       "      <td>2020-11-02T19:41:43.000</td>\n",
       "      <td>10</td>\n",
       "      <td>1</td>\n",
       "      <td>0</td>\n",
       "      <td>9</td>\n",
       "      <td>9</td>\n",
       "      <td>2020</td>\n",
       "      <td>48453000700</td>\n",
       "      <td>48453001100</td>\n",
       "    </tr>\n",
       "  </tbody>\n",
       "</table>\n",
       "</div>"
      ],
      "text/plain": [
       "                                     trip_id  \\\n",
       "777654  56ebfc5b-def6-4d6b-a2e4-b8495a072c1d   \n",
       "779015  3b4a99c4-2f7e-4af6-a04e-6453705907b9   \n",
       "791125  bc0d9944-5df8-4645-8a0c-70849b0b6d1a   \n",
       "818779  3961a21b-056c-4e77-af0d-b9ad9f0fd491   \n",
       "822691  32b57dd3-08b8-4a21-a9c8-1ffc794e3eb8   \n",
       "\n",
       "                                   device_id vehicle_type trip_duration  \\\n",
       "777654  3c68ff46-80ee-4580-b8da-3ba8099a8a82        moped          2382   \n",
       "779015  b6fc8240-397e-46ce-82a1-22537bb33556        moped           972   \n",
       "791125  89759b3a-83ab-4f68-bf6e-1cc229429134        moped           375   \n",
       "818779  89759b3a-83ab-4f68-bf6e-1cc229429134        moped            23   \n",
       "822691  5aefb7d6-3fb9-4019-aa26-9238b1a1ac10        moped           867   \n",
       "\n",
       "        trip_distance               start_time                 end_time  \\\n",
       "777654        10781.0  2020-10-04T23:45:00.000  2020-10-05T00:30:00.000   \n",
       "779015         5958.0  2020-10-05T00:30:00.000  2020-10-05T00:45:00.000   \n",
       "791125         1601.0  2020-10-05T00:45:00.000  2020-10-05T00:45:00.000   \n",
       "818779            0.0  2020-10-05T00:45:00.000  2020-10-05T00:45:00.000   \n",
       "822691         3840.0  2020-10-05T00:45:00.000  2020-10-05T01:00:00.000   \n",
       "\n",
       "                  modified_date month hour day_of_week council_district_start  \\\n",
       "777654  2020-11-02T19:41:42.000    10    0           0                      3   \n",
       "779015  2020-11-02T19:41:42.000    10    0           0                      3   \n",
       "791125  2020-11-02T19:41:43.000    10    0           0                      3   \n",
       "818779  2020-11-02T19:41:43.000    10    0           0                      3   \n",
       "822691  2020-11-02T19:41:43.000    10    1           0                      9   \n",
       "\n",
       "       council_district_end  year census_geoid_start census_geoid_end  \n",
       "777654                    9  2020        48453000902      48453001100  \n",
       "779015                    9  2020        48453000801      48453001100  \n",
       "791125                    3  2020        48453002316      48453002315  \n",
       "818779                    3  2020        48453002315      48453002315  \n",
       "822691                    9  2020        48453000700      48453001100  "
      ]
     },
     "execution_count": 76,
     "metadata": {},
     "output_type": "execute_result"
    }
   ],
   "source": [
    "two_years_df = df.loc[(df[\"year\"] == \"2019\") | (df[\"year\"] == \"2020\")]\n",
    "two_years_df.head()"
   ]
  },
  {
   "cell_type": "code",
   "execution_count": 66,
   "metadata": {},
   "outputs": [
    {
     "data": {
      "text/plain": [
       "(7645659, 16)"
      ]
     },
     "execution_count": 66,
     "metadata": {},
     "output_type": "execute_result"
    }
   ],
   "source": [
    "two_years_df.shape"
   ]
  },
  {
   "cell_type": "code",
   "execution_count": 68,
   "metadata": {},
   "outputs": [
    {
     "data": {
      "text/plain": [
       "year  vehicle_type\n",
       "2019  bicycle          340144\n",
       "      moped             14098\n",
       "      scooter         5683619\n",
       "2020  bicycle           36419\n",
       "      moped             73202\n",
       "      scooter         1498177\n",
       "Name: trip_id, dtype: int64"
      ]
     },
     "execution_count": 68,
     "metadata": {},
     "output_type": "execute_result"
    }
   ],
   "source": [
    "two_years_df.groupby([\"year\", \"vehicle_type\"]).count()[\"trip_id\"]"
   ]
  },
  {
   "cell_type": "markdown",
   "metadata": {},
   "source": [
    "### Split the data for 2019 and 2020"
   ]
  },
  {
   "cell_type": "code",
   "execution_count": null,
   "metadata": {},
   "outputs": [],
   "source": [
    "year2019 = df.loc[(df[\"year\"] == \"2019\")]\n",
    "year2020 = df.loc[(df[\"year\"] == \"2020\")]"
   ]
  },
  {
   "cell_type": "code",
   "execution_count": 71,
   "metadata": {},
   "outputs": [
    {
     "data": {
      "text/plain": [
       "vehicle_type\n",
       "bicycle     340144\n",
       "moped        14098\n",
       "scooter    5683619\n",
       "Name: trip_id, dtype: int64"
      ]
     },
     "execution_count": 71,
     "metadata": {},
     "output_type": "execute_result"
    }
   ],
   "source": [
    "year2019.groupby([\"vehicle_type\"]).count()[\"trip_id\"]"
   ]
  },
  {
   "cell_type": "code",
   "execution_count": 72,
   "metadata": {},
   "outputs": [
    {
     "data": {
      "text/plain": [
       "vehicle_type\n",
       "bicycle      36419\n",
       "moped        73202\n",
       "scooter    1498177\n",
       "Name: trip_id, dtype: int64"
      ]
     },
     "execution_count": 72,
     "metadata": {},
     "output_type": "execute_result"
    }
   ],
   "source": [
    "year2020.groupby([\"vehicle_type\"]).count()[\"trip_id\"]"
   ]
  },
  {
   "cell_type": "code",
   "execution_count": 74,
   "metadata": {},
   "outputs": [
    {
     "data": {
      "text/plain": [
       "(6037861, 16)"
      ]
     },
     "execution_count": 74,
     "metadata": {},
     "output_type": "execute_result"
    }
   ],
   "source": [
    "year2019.shape"
   ]
  },
  {
   "cell_type": "code",
   "execution_count": 75,
   "metadata": {},
   "outputs": [
    {
     "data": {
      "text/plain": [
       "(1607798, 16)"
      ]
     },
     "execution_count": 75,
     "metadata": {},
     "output_type": "execute_result"
    }
   ],
   "source": [
    "year2020.shape"
   ]
  },
  {
   "cell_type": "code",
   "execution_count": 78,
   "metadata": {},
   "outputs": [
    {
     "data": {
      "text/html": [
       "<div>\n",
       "<style scoped>\n",
       "    .dataframe tbody tr th:only-of-type {\n",
       "        vertical-align: middle;\n",
       "    }\n",
       "\n",
       "    .dataframe tbody tr th {\n",
       "        vertical-align: top;\n",
       "    }\n",
       "\n",
       "    .dataframe thead th {\n",
       "        text-align: right;\n",
       "    }\n",
       "</style>\n",
       "<table border=\"1\" class=\"dataframe\">\n",
       "  <thead>\n",
       "    <tr style=\"text-align: right;\">\n",
       "      <th></th>\n",
       "      <th>trip_id</th>\n",
       "      <th>device_id</th>\n",
       "      <th>vehicle_type</th>\n",
       "      <th>trip_duration</th>\n",
       "      <th>trip_distance</th>\n",
       "      <th>start_time</th>\n",
       "      <th>end_time</th>\n",
       "      <th>modified_date</th>\n",
       "      <th>month</th>\n",
       "      <th>hour</th>\n",
       "      <th>day_of_week</th>\n",
       "      <th>year</th>\n",
       "      <th>census_geoid_start</th>\n",
       "      <th>census_geoid_end</th>\n",
       "    </tr>\n",
       "  </thead>\n",
       "  <tbody>\n",
       "    <tr>\n",
       "      <th>777654</th>\n",
       "      <td>56ebfc5b-def6-4d6b-a2e4-b8495a072c1d</td>\n",
       "      <td>3c68ff46-80ee-4580-b8da-3ba8099a8a82</td>\n",
       "      <td>moped</td>\n",
       "      <td>2382</td>\n",
       "      <td>10781.0</td>\n",
       "      <td>2020-10-04T23:45:00.000</td>\n",
       "      <td>2020-10-05T00:30:00.000</td>\n",
       "      <td>2020-11-02T19:41:42.000</td>\n",
       "      <td>10</td>\n",
       "      <td>0</td>\n",
       "      <td>0</td>\n",
       "      <td>2020</td>\n",
       "      <td>48453000902</td>\n",
       "      <td>48453001100</td>\n",
       "    </tr>\n",
       "    <tr>\n",
       "      <th>779015</th>\n",
       "      <td>3b4a99c4-2f7e-4af6-a04e-6453705907b9</td>\n",
       "      <td>b6fc8240-397e-46ce-82a1-22537bb33556</td>\n",
       "      <td>moped</td>\n",
       "      <td>972</td>\n",
       "      <td>5958.0</td>\n",
       "      <td>2020-10-05T00:30:00.000</td>\n",
       "      <td>2020-10-05T00:45:00.000</td>\n",
       "      <td>2020-11-02T19:41:42.000</td>\n",
       "      <td>10</td>\n",
       "      <td>0</td>\n",
       "      <td>0</td>\n",
       "      <td>2020</td>\n",
       "      <td>48453000801</td>\n",
       "      <td>48453001100</td>\n",
       "    </tr>\n",
       "    <tr>\n",
       "      <th>791125</th>\n",
       "      <td>bc0d9944-5df8-4645-8a0c-70849b0b6d1a</td>\n",
       "      <td>89759b3a-83ab-4f68-bf6e-1cc229429134</td>\n",
       "      <td>moped</td>\n",
       "      <td>375</td>\n",
       "      <td>1601.0</td>\n",
       "      <td>2020-10-05T00:45:00.000</td>\n",
       "      <td>2020-10-05T00:45:00.000</td>\n",
       "      <td>2020-11-02T19:41:43.000</td>\n",
       "      <td>10</td>\n",
       "      <td>0</td>\n",
       "      <td>0</td>\n",
       "      <td>2020</td>\n",
       "      <td>48453002316</td>\n",
       "      <td>48453002315</td>\n",
       "    </tr>\n",
       "    <tr>\n",
       "      <th>818779</th>\n",
       "      <td>3961a21b-056c-4e77-af0d-b9ad9f0fd491</td>\n",
       "      <td>89759b3a-83ab-4f68-bf6e-1cc229429134</td>\n",
       "      <td>moped</td>\n",
       "      <td>23</td>\n",
       "      <td>0.0</td>\n",
       "      <td>2020-10-05T00:45:00.000</td>\n",
       "      <td>2020-10-05T00:45:00.000</td>\n",
       "      <td>2020-11-02T19:41:43.000</td>\n",
       "      <td>10</td>\n",
       "      <td>0</td>\n",
       "      <td>0</td>\n",
       "      <td>2020</td>\n",
       "      <td>48453002315</td>\n",
       "      <td>48453002315</td>\n",
       "    </tr>\n",
       "    <tr>\n",
       "      <th>822691</th>\n",
       "      <td>32b57dd3-08b8-4a21-a9c8-1ffc794e3eb8</td>\n",
       "      <td>5aefb7d6-3fb9-4019-aa26-9238b1a1ac10</td>\n",
       "      <td>moped</td>\n",
       "      <td>867</td>\n",
       "      <td>3840.0</td>\n",
       "      <td>2020-10-05T00:45:00.000</td>\n",
       "      <td>2020-10-05T01:00:00.000</td>\n",
       "      <td>2020-11-02T19:41:43.000</td>\n",
       "      <td>10</td>\n",
       "      <td>1</td>\n",
       "      <td>0</td>\n",
       "      <td>2020</td>\n",
       "      <td>48453000700</td>\n",
       "      <td>48453001100</td>\n",
       "    </tr>\n",
       "    <tr>\n",
       "      <th>...</th>\n",
       "      <td>...</td>\n",
       "      <td>...</td>\n",
       "      <td>...</td>\n",
       "      <td>...</td>\n",
       "      <td>...</td>\n",
       "      <td>...</td>\n",
       "      <td>...</td>\n",
       "      <td>...</td>\n",
       "      <td>...</td>\n",
       "      <td>...</td>\n",
       "      <td>...</td>\n",
       "      <td>...</td>\n",
       "      <td>...</td>\n",
       "      <td>...</td>\n",
       "    </tr>\n",
       "    <tr>\n",
       "      <th>9950881</th>\n",
       "      <td>856e419a-7f11-4fcb-af71-981798c760fe</td>\n",
       "      <td>b2982c20-0dbd-45b2-9903-8c012b909bfb</td>\n",
       "      <td>scooter</td>\n",
       "      <td>140</td>\n",
       "      <td>394.0</td>\n",
       "      <td>2020-11-11T02:00:00.000</td>\n",
       "      <td>2020-11-11T02:00:00.000</td>\n",
       "      <td>2020-11-12T03:16:29.000</td>\n",
       "      <td>11</td>\n",
       "      <td>2</td>\n",
       "      <td>2</td>\n",
       "      <td>2020</td>\n",
       "      <td>48453000603</td>\n",
       "      <td>48453000604</td>\n",
       "    </tr>\n",
       "    <tr>\n",
       "      <th>9950882</th>\n",
       "      <td>9ffdafa4-352b-45df-9f49-d4fff302ad93</td>\n",
       "      <td>6bd7645c-a5c4-4b1b-b328-0becbf50369b</td>\n",
       "      <td>scooter</td>\n",
       "      <td>269</td>\n",
       "      <td>1089.0</td>\n",
       "      <td>2020-11-11T01:45:00.000</td>\n",
       "      <td>2020-11-11T02:00:00.000</td>\n",
       "      <td>2020-11-12T03:16:39.000</td>\n",
       "      <td>11</td>\n",
       "      <td>2</td>\n",
       "      <td>2</td>\n",
       "      <td>2020</td>\n",
       "      <td>48453001100</td>\n",
       "      <td>48453001100</td>\n",
       "    </tr>\n",
       "    <tr>\n",
       "      <th>9950883</th>\n",
       "      <td>62919757-e234-48cc-848a-ca932d3d3c49</td>\n",
       "      <td>59178897-768d-4ec6-a874-df266dbad96e</td>\n",
       "      <td>scooter</td>\n",
       "      <td>287</td>\n",
       "      <td>1399.0</td>\n",
       "      <td>2020-11-11T01:45:00.000</td>\n",
       "      <td>2020-11-11T02:00:00.000</td>\n",
       "      <td>2020-11-12T03:16:46.000</td>\n",
       "      <td>11</td>\n",
       "      <td>2</td>\n",
       "      <td>2</td>\n",
       "      <td>2020</td>\n",
       "      <td>48453002316</td>\n",
       "      <td>48453002316</td>\n",
       "    </tr>\n",
       "    <tr>\n",
       "      <th>9950884</th>\n",
       "      <td>4d47e1c3-08ab-49ad-8e2c-d2d0be7dcb00</td>\n",
       "      <td>b2447d78-4e74-4cce-9d7c-4510d07e858f</td>\n",
       "      <td>scooter</td>\n",
       "      <td>119</td>\n",
       "      <td>16.0</td>\n",
       "      <td>2020-11-11T02:00:00.000</td>\n",
       "      <td>2020-11-11T02:00:00.000</td>\n",
       "      <td>2020-11-12T03:16:55.000</td>\n",
       "      <td>11</td>\n",
       "      <td>2</td>\n",
       "      <td>2</td>\n",
       "      <td>2020</td>\n",
       "      <td>48453000401</td>\n",
       "      <td>48453000401</td>\n",
       "    </tr>\n",
       "    <tr>\n",
       "      <th>9950885</th>\n",
       "      <td>7167723f-75f5-485e-8662-b1aedd98e8d9</td>\n",
       "      <td>797e528a-2bf1-41b4-ab99-259c2f7e6d32</td>\n",
       "      <td>scooter</td>\n",
       "      <td>287</td>\n",
       "      <td>0.0</td>\n",
       "      <td>2020-11-11T01:45:00.000</td>\n",
       "      <td>2020-11-11T02:00:00.000</td>\n",
       "      <td>2020-11-12T03:16:55.000</td>\n",
       "      <td>11</td>\n",
       "      <td>2</td>\n",
       "      <td>2</td>\n",
       "      <td>2020</td>\n",
       "      <td>48453001100</td>\n",
       "      <td>48453001100</td>\n",
       "    </tr>\n",
       "  </tbody>\n",
       "</table>\n",
       "<p>1607798 rows × 14 columns</p>\n",
       "</div>"
      ],
      "text/plain": [
       "                                      trip_id  \\\n",
       "777654   56ebfc5b-def6-4d6b-a2e4-b8495a072c1d   \n",
       "779015   3b4a99c4-2f7e-4af6-a04e-6453705907b9   \n",
       "791125   bc0d9944-5df8-4645-8a0c-70849b0b6d1a   \n",
       "818779   3961a21b-056c-4e77-af0d-b9ad9f0fd491   \n",
       "822691   32b57dd3-08b8-4a21-a9c8-1ffc794e3eb8   \n",
       "...                                       ...   \n",
       "9950881  856e419a-7f11-4fcb-af71-981798c760fe   \n",
       "9950882  9ffdafa4-352b-45df-9f49-d4fff302ad93   \n",
       "9950883  62919757-e234-48cc-848a-ca932d3d3c49   \n",
       "9950884  4d47e1c3-08ab-49ad-8e2c-d2d0be7dcb00   \n",
       "9950885  7167723f-75f5-485e-8662-b1aedd98e8d9   \n",
       "\n",
       "                                    device_id vehicle_type trip_duration  \\\n",
       "777654   3c68ff46-80ee-4580-b8da-3ba8099a8a82        moped          2382   \n",
       "779015   b6fc8240-397e-46ce-82a1-22537bb33556        moped           972   \n",
       "791125   89759b3a-83ab-4f68-bf6e-1cc229429134        moped           375   \n",
       "818779   89759b3a-83ab-4f68-bf6e-1cc229429134        moped            23   \n",
       "822691   5aefb7d6-3fb9-4019-aa26-9238b1a1ac10        moped           867   \n",
       "...                                       ...          ...           ...   \n",
       "9950881  b2982c20-0dbd-45b2-9903-8c012b909bfb      scooter           140   \n",
       "9950882  6bd7645c-a5c4-4b1b-b328-0becbf50369b      scooter           269   \n",
       "9950883  59178897-768d-4ec6-a874-df266dbad96e      scooter           287   \n",
       "9950884  b2447d78-4e74-4cce-9d7c-4510d07e858f      scooter           119   \n",
       "9950885  797e528a-2bf1-41b4-ab99-259c2f7e6d32      scooter           287   \n",
       "\n",
       "         trip_distance               start_time                 end_time  \\\n",
       "777654         10781.0  2020-10-04T23:45:00.000  2020-10-05T00:30:00.000   \n",
       "779015          5958.0  2020-10-05T00:30:00.000  2020-10-05T00:45:00.000   \n",
       "791125          1601.0  2020-10-05T00:45:00.000  2020-10-05T00:45:00.000   \n",
       "818779             0.0  2020-10-05T00:45:00.000  2020-10-05T00:45:00.000   \n",
       "822691          3840.0  2020-10-05T00:45:00.000  2020-10-05T01:00:00.000   \n",
       "...                ...                      ...                      ...   \n",
       "9950881          394.0  2020-11-11T02:00:00.000  2020-11-11T02:00:00.000   \n",
       "9950882         1089.0  2020-11-11T01:45:00.000  2020-11-11T02:00:00.000   \n",
       "9950883         1399.0  2020-11-11T01:45:00.000  2020-11-11T02:00:00.000   \n",
       "9950884           16.0  2020-11-11T02:00:00.000  2020-11-11T02:00:00.000   \n",
       "9950885            0.0  2020-11-11T01:45:00.000  2020-11-11T02:00:00.000   \n",
       "\n",
       "                   modified_date month hour day_of_week  year  \\\n",
       "777654   2020-11-02T19:41:42.000    10    0           0  2020   \n",
       "779015   2020-11-02T19:41:42.000    10    0           0  2020   \n",
       "791125   2020-11-02T19:41:43.000    10    0           0  2020   \n",
       "818779   2020-11-02T19:41:43.000    10    0           0  2020   \n",
       "822691   2020-11-02T19:41:43.000    10    1           0  2020   \n",
       "...                          ...   ...  ...         ...   ...   \n",
       "9950881  2020-11-12T03:16:29.000    11    2           2  2020   \n",
       "9950882  2020-11-12T03:16:39.000    11    2           2  2020   \n",
       "9950883  2020-11-12T03:16:46.000    11    2           2  2020   \n",
       "9950884  2020-11-12T03:16:55.000    11    2           2  2020   \n",
       "9950885  2020-11-12T03:16:55.000    11    2           2  2020   \n",
       "\n",
       "        census_geoid_start census_geoid_end  \n",
       "777654         48453000902      48453001100  \n",
       "779015         48453000801      48453001100  \n",
       "791125         48453002316      48453002315  \n",
       "818779         48453002315      48453002315  \n",
       "822691         48453000700      48453001100  \n",
       "...                    ...              ...  \n",
       "9950881        48453000603      48453000604  \n",
       "9950882        48453001100      48453001100  \n",
       "9950883        48453002316      48453002316  \n",
       "9950884        48453000401      48453000401  \n",
       "9950885        48453001100      48453001100  \n",
       "\n",
       "[1607798 rows x 14 columns]"
      ]
     },
     "execution_count": 78,
     "metadata": {},
     "output_type": "execute_result"
    }
   ],
   "source": [
    "year2019.drop(columns=[\"council_district_start\", \"council_district_end\"])\n",
    "year2020.drop(columns=[\"council_district_start\", \"council_district_end\"])"
   ]
  },
  {
   "cell_type": "code",
   "execution_count": 79,
   "metadata": {},
   "outputs": [],
   "source": [
    "year2019.to_csv(\"../data/2019data.csv\", index=False)\n",
    "year2020.to_csv(\"../data/2020data.csv\", index=False)"
   ]
  },
  {
   "cell_type": "code",
   "execution_count": null,
   "metadata": {},
   "outputs": [],
   "source": []
  }
 ],
 "metadata": {
  "kernelspec": {
   "display_name": "DataAnalysis",
   "language": "python",
   "name": "python3"
  },
  "language_info": {
   "codemirror_mode": {
    "name": "ipython",
    "version": 3
   },
   "file_extension": ".py",
   "mimetype": "text/x-python",
   "name": "python",
   "nbconvert_exporter": "python",
   "pygments_lexer": "ipython3",
   "version": "3.8.0"
  }
 },
 "nbformat": 4,
 "nbformat_minor": 2
}
