{
 "cells": [
  {
   "cell_type": "code",
   "execution_count": 4,
   "metadata": {},
   "outputs": [
    {
     "name": "stdout",
     "output_type": "stream",
     "text": [
      "The lab_black extension is already loaded. To reload it, use:\n",
      "  %reload_ext lab_black\n"
     ]
    }
   ],
   "source": [
    "import os\n",
    "import matplotlib.pyplot as plt\n",
    "import pandas as pd\n",
    "import numpy as np\n",
    "import math as math\n",
    "import datetime as dt\n",
    "\n",
    "# import seaborn as sns\n",
    "import pandas as pd\n",
    "import geopandas as gpd\n",
    "from sodapy import Socrata\n",
    "import plotly.figure_factory as ff\n",
    "\n",
    "%load_ext lab_black"
   ]
  },
  {
   "cell_type": "code",
   "execution_count": 5,
   "metadata": {},
   "outputs": [
    {
     "data": {
      "text/html": [
       "<div>\n",
       "<style scoped>\n",
       "    .dataframe tbody tr th:only-of-type {\n",
       "        vertical-align: middle;\n",
       "    }\n",
       "\n",
       "    .dataframe tbody tr th {\n",
       "        vertical-align: top;\n",
       "    }\n",
       "\n",
       "    .dataframe thead th {\n",
       "        text-align: right;\n",
       "    }\n",
       "</style>\n",
       "<table border=\"1\" class=\"dataframe\">\n",
       "  <thead>\n",
       "    <tr style=\"text-align: right;\">\n",
       "      <th></th>\n",
       "      <th>trip_id</th>\n",
       "      <th>device_id</th>\n",
       "      <th>vehicle_type</th>\n",
       "      <th>trip_duration</th>\n",
       "      <th>trip_distance</th>\n",
       "      <th>start_time</th>\n",
       "      <th>end_time</th>\n",
       "      <th>modified_date</th>\n",
       "      <th>month</th>\n",
       "      <th>hour</th>\n",
       "      <th>day_of_week</th>\n",
       "      <th>council_district_start</th>\n",
       "      <th>council_district_end</th>\n",
       "      <th>year</th>\n",
       "      <th>census_geoid_start</th>\n",
       "      <th>census_geoid_end</th>\n",
       "    </tr>\n",
       "  </thead>\n",
       "  <tbody>\n",
       "    <tr>\n",
       "      <th>0</th>\n",
       "      <td>900cbaac-b24d-4077-9bbd-e2938b07b7fa</td>\n",
       "      <td>b07ef823-e9b9-441e-8972-09943f46da4a</td>\n",
       "      <td>scooter</td>\n",
       "      <td>89</td>\n",
       "      <td>0.0</td>\n",
       "      <td>2019-01-20T00:30:00.000</td>\n",
       "      <td>2019-01-20T00:30:00.000</td>\n",
       "      <td>2019-04-17T02:23:20.000</td>\n",
       "      <td>1</td>\n",
       "      <td>0</td>\n",
       "      <td>0</td>\n",
       "      <td>9</td>\n",
       "      <td>9</td>\n",
       "      <td>2019</td>\n",
       "      <td>48453001100</td>\n",
       "      <td>48453001100</td>\n",
       "    </tr>\n",
       "  </tbody>\n",
       "</table>\n",
       "</div>"
      ],
      "text/plain": [
       "                                trip_id                             device_id  \\\n",
       "0  900cbaac-b24d-4077-9bbd-e2938b07b7fa  b07ef823-e9b9-441e-8972-09943f46da4a   \n",
       "\n",
       "  vehicle_type  trip_duration  trip_distance               start_time  \\\n",
       "0      scooter             89            0.0  2019-01-20T00:30:00.000   \n",
       "\n",
       "                  end_time            modified_date  month  hour  day_of_week  \\\n",
       "0  2019-01-20T00:30:00.000  2019-04-17T02:23:20.000      1     0            0   \n",
       "\n",
       "   council_district_start council_district_end  year census_geoid_start  \\\n",
       "0                       9                    9  2019        48453001100   \n",
       "\n",
       "  census_geoid_end  \n",
       "0      48453001100  "
      ]
     },
     "execution_count": 5,
     "metadata": {},
     "output_type": "execute_result"
    }
   ],
   "source": [
    "df_2019 = pd.read_csv(\"../data/2019data.csv\", low_memory=False)\n",
    "df_2019.head(1)"
   ]
  },
  {
   "cell_type": "code",
   "execution_count": 6,
   "metadata": {},
   "outputs": [
    {
     "data": {
      "text/html": [
       "<div>\n",
       "<style scoped>\n",
       "    .dataframe tbody tr th:only-of-type {\n",
       "        vertical-align: middle;\n",
       "    }\n",
       "\n",
       "    .dataframe tbody tr th {\n",
       "        vertical-align: top;\n",
       "    }\n",
       "\n",
       "    .dataframe thead th {\n",
       "        text-align: right;\n",
       "    }\n",
       "</style>\n",
       "<table border=\"1\" class=\"dataframe\">\n",
       "  <thead>\n",
       "    <tr style=\"text-align: right;\">\n",
       "      <th></th>\n",
       "      <th>trip_id</th>\n",
       "      <th>device_id</th>\n",
       "      <th>vehicle_type</th>\n",
       "      <th>trip_duration</th>\n",
       "      <th>trip_distance</th>\n",
       "      <th>start_time</th>\n",
       "      <th>end_time</th>\n",
       "      <th>modified_date</th>\n",
       "      <th>month</th>\n",
       "      <th>hour</th>\n",
       "      <th>day_of_week</th>\n",
       "      <th>council_district_start</th>\n",
       "      <th>council_district_end</th>\n",
       "      <th>year</th>\n",
       "      <th>census_geoid_start</th>\n",
       "      <th>census_geoid_end</th>\n",
       "    </tr>\n",
       "  </thead>\n",
       "  <tbody>\n",
       "    <tr>\n",
       "      <th>0</th>\n",
       "      <td>56ebfc5b-def6-4d6b-a2e4-b8495a072c1d</td>\n",
       "      <td>3c68ff46-80ee-4580-b8da-3ba8099a8a82</td>\n",
       "      <td>moped</td>\n",
       "      <td>2382</td>\n",
       "      <td>10781.0</td>\n",
       "      <td>2020-10-04T23:45:00.000</td>\n",
       "      <td>2020-10-05T00:30:00.000</td>\n",
       "      <td>2020-11-02T19:41:42.000</td>\n",
       "      <td>10</td>\n",
       "      <td>0</td>\n",
       "      <td>0</td>\n",
       "      <td>3</td>\n",
       "      <td>9</td>\n",
       "      <td>2020</td>\n",
       "      <td>48453000902</td>\n",
       "      <td>48453001100</td>\n",
       "    </tr>\n",
       "  </tbody>\n",
       "</table>\n",
       "</div>"
      ],
      "text/plain": [
       "                                trip_id                             device_id  \\\n",
       "0  56ebfc5b-def6-4d6b-a2e4-b8495a072c1d  3c68ff46-80ee-4580-b8da-3ba8099a8a82   \n",
       "\n",
       "  vehicle_type  trip_duration  trip_distance               start_time  \\\n",
       "0        moped           2382        10781.0  2020-10-04T23:45:00.000   \n",
       "\n",
       "                  end_time            modified_date  month  hour  day_of_week  \\\n",
       "0  2020-10-05T00:30:00.000  2020-11-02T19:41:42.000     10     0            0   \n",
       "\n",
       "  council_district_start council_district_end  year census_geoid_start  \\\n",
       "0                      3                    9  2020        48453000902   \n",
       "\n",
       "  census_geoid_end  \n",
       "0      48453001100  "
      ]
     },
     "execution_count": 6,
     "metadata": {},
     "output_type": "execute_result"
    }
   ],
   "source": [
    "df_2020 = pd.read_csv(\"../data/2020data.csv\", low_memory=False)\n",
    "df_2020.head(1)"
   ]
  },
  {
   "cell_type": "code",
   "execution_count": null,
   "metadata": {},
   "outputs": [],
   "source": []
  }
 ],
 "metadata": {
  "kernelspec": {
   "display_name": "DataAnalysis",
   "language": "python",
   "name": "python3"
  },
  "language_info": {
   "codemirror_mode": {
    "name": "ipython",
    "version": 3
   },
   "file_extension": ".py",
   "mimetype": "text/x-python",
   "name": "python",
   "nbconvert_exporter": "python",
   "pygments_lexer": "ipython3",
   "version": "3.8.0"
  }
 },
 "nbformat": 4,
 "nbformat_minor": 2
}
