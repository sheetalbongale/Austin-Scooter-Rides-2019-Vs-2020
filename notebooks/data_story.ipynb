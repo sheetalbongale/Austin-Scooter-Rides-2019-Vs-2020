{
 "cells": [
  {
   "cell_type": "code",
   "execution_count": 1,
   "metadata": {},
   "outputs": [],
   "source": [
    "import os\n",
    "import matplotlib.pyplot as plt\n",
    "import pandas as pd\n",
    "import numpy as np\n",
    "import math as math\n",
    "import datetime as dt\n",
    "\n",
    "# import seaborn as sns\n",
    "import pandas as pd\n",
    "import geopandas as gpd\n",
    "from sodapy import Socrata\n",
    "import plotly.figure_factory as ff\n",
    "\n"
   ]
  },
  {
   "cell_type": "code",
   "execution_count": 2,
   "metadata": {},
   "outputs": [
    {
     "data": {
      "text/html": [
       "<div>\n",
       "<style scoped>\n",
       "    .dataframe tbody tr th:only-of-type {\n",
       "        vertical-align: middle;\n",
       "    }\n",
       "\n",
       "    .dataframe tbody tr th {\n",
       "        vertical-align: top;\n",
       "    }\n",
       "\n",
       "    .dataframe thead th {\n",
       "        text-align: right;\n",
       "    }\n",
       "</style>\n",
       "<table border=\"1\" class=\"dataframe\">\n",
       "  <thead>\n",
       "    <tr style=\"text-align: right;\">\n",
       "      <th></th>\n",
       "      <th>trip_id</th>\n",
       "      <th>device_id</th>\n",
       "      <th>vehicle_type</th>\n",
       "      <th>trip_duration</th>\n",
       "      <th>trip_distance</th>\n",
       "      <th>start_time</th>\n",
       "      <th>end_time</th>\n",
       "      <th>month</th>\n",
       "      <th>hour</th>\n",
       "      <th>day_of_week</th>\n",
       "      <th>year</th>\n",
       "      <th>census_geoid_start</th>\n",
       "      <th>census_geoid_end</th>\n",
       "    </tr>\n",
       "  </thead>\n",
       "  <tbody>\n",
       "    <tr>\n",
       "      <th>0</th>\n",
       "      <td>ac83e53e-df8a-47e1-9226-e387feba623c</td>\n",
       "      <td>577a99bb-de79-4a1d-b329-9d0598a00f43</td>\n",
       "      <td>scooter</td>\n",
       "      <td>168</td>\n",
       "      <td>0.0</td>\n",
       "      <td>2019-02-21T16:00:00.000</td>\n",
       "      <td>2019-02-21T16:00:00.000</td>\n",
       "      <td>2</td>\n",
       "      <td>16</td>\n",
       "      <td>4</td>\n",
       "      <td>2019</td>\n",
       "      <td>48453000601</td>\n",
       "      <td>48453000604</td>\n",
       "    </tr>\n",
       "    <tr>\n",
       "      <th>1</th>\n",
       "      <td>d836640a-585e-44f5-80f3-759da68942ef</td>\n",
       "      <td>d15d13b7-bb25-492b-ade8-a1b4af94c1bb</td>\n",
       "      <td>scooter</td>\n",
       "      <td>300</td>\n",
       "      <td>630.0</td>\n",
       "      <td>2019-02-21T16:00:00.000</td>\n",
       "      <td>2019-02-21T16:15:00.000</td>\n",
       "      <td>2</td>\n",
       "      <td>16</td>\n",
       "      <td>4</td>\n",
       "      <td>2019</td>\n",
       "      <td>48453000604</td>\n",
       "      <td>48453000601</td>\n",
       "    </tr>\n",
       "    <tr>\n",
       "      <th>2</th>\n",
       "      <td>acaf15db-d5ac-479b-acb9-f6fe06d16ed6</td>\n",
       "      <td>43936585-5c04-4e1a-90f2-e90a0cec8b11</td>\n",
       "      <td>scooter</td>\n",
       "      <td>338</td>\n",
       "      <td>1005.0</td>\n",
       "      <td>2019-02-07T05:45:00.000</td>\n",
       "      <td>2019-02-07T05:45:00.000</td>\n",
       "      <td>2</td>\n",
       "      <td>5</td>\n",
       "      <td>4</td>\n",
       "      <td>2019</td>\n",
       "      <td>48453001100</td>\n",
       "      <td>48453001100</td>\n",
       "    </tr>\n",
       "    <tr>\n",
       "      <th>3</th>\n",
       "      <td>5aa5d087-c7e1-4366-beae-8ae1b94b36f3</td>\n",
       "      <td>035699d8-1026-4ec0-98af-f9862d6a6680</td>\n",
       "      <td>scooter</td>\n",
       "      <td>167</td>\n",
       "      <td>458.0</td>\n",
       "      <td>2019-02-07T05:45:00.000</td>\n",
       "      <td>2019-02-07T06:00:00.000</td>\n",
       "      <td>2</td>\n",
       "      <td>5</td>\n",
       "      <td>4</td>\n",
       "      <td>2019</td>\n",
       "      <td>48453001305</td>\n",
       "      <td>48453001100</td>\n",
       "    </tr>\n",
       "    <tr>\n",
       "      <th>4</th>\n",
       "      <td>af7c6124-af5d-4457-8562-127ceee72fa4</td>\n",
       "      <td>1217c320-6fe3-4d1f-a43c-2318892c7dd4</td>\n",
       "      <td>scooter</td>\n",
       "      <td>141</td>\n",
       "      <td>122.0</td>\n",
       "      <td>2019-02-07T06:00:00.000</td>\n",
       "      <td>2019-02-07T06:00:00.000</td>\n",
       "      <td>2</td>\n",
       "      <td>6</td>\n",
       "      <td>4</td>\n",
       "      <td>2019</td>\n",
       "      <td>48453000601</td>\n",
       "      <td>48453000601</td>\n",
       "    </tr>\n",
       "  </tbody>\n",
       "</table>\n",
       "</div>"
      ],
      "text/plain": [
       "                                trip_id                             device_id  \\\n",
       "0  ac83e53e-df8a-47e1-9226-e387feba623c  577a99bb-de79-4a1d-b329-9d0598a00f43   \n",
       "1  d836640a-585e-44f5-80f3-759da68942ef  d15d13b7-bb25-492b-ade8-a1b4af94c1bb   \n",
       "2  acaf15db-d5ac-479b-acb9-f6fe06d16ed6  43936585-5c04-4e1a-90f2-e90a0cec8b11   \n",
       "3  5aa5d087-c7e1-4366-beae-8ae1b94b36f3  035699d8-1026-4ec0-98af-f9862d6a6680   \n",
       "4  af7c6124-af5d-4457-8562-127ceee72fa4  1217c320-6fe3-4d1f-a43c-2318892c7dd4   \n",
       "\n",
       "  vehicle_type  trip_duration  trip_distance               start_time  \\\n",
       "0      scooter            168            0.0  2019-02-21T16:00:00.000   \n",
       "1      scooter            300          630.0  2019-02-21T16:00:00.000   \n",
       "2      scooter            338         1005.0  2019-02-07T05:45:00.000   \n",
       "3      scooter            167          458.0  2019-02-07T05:45:00.000   \n",
       "4      scooter            141          122.0  2019-02-07T06:00:00.000   \n",
       "\n",
       "                  end_time  month  hour  day_of_week  year census_geoid_start  \\\n",
       "0  2019-02-21T16:00:00.000      2    16            4  2019        48453000601   \n",
       "1  2019-02-21T16:15:00.000      2    16            4  2019        48453000604   \n",
       "2  2019-02-07T05:45:00.000      2     5            4  2019        48453001100   \n",
       "3  2019-02-07T06:00:00.000      2     5            4  2019        48453001305   \n",
       "4  2019-02-07T06:00:00.000      2     6            4  2019        48453000601   \n",
       "\n",
       "  census_geoid_end  \n",
       "0      48453000604  \n",
       "1      48453000601  \n",
       "2      48453001100  \n",
       "3      48453001100  \n",
       "4      48453000601  "
      ]
     },
     "execution_count": 2,
     "metadata": {},
     "output_type": "execute_result"
    }
   ],
   "source": [
    "df_2019 = pd.read_csv(\"../data/2019data.csv\", low_memory=False)\n",
    "df_2019.head()"
   ]
  },
  {
   "cell_type": "code",
   "execution_count": 3,
   "metadata": {},
   "outputs": [
    {
     "data": {
      "text/html": [
       "<div>\n",
       "<style scoped>\n",
       "    .dataframe tbody tr th:only-of-type {\n",
       "        vertical-align: middle;\n",
       "    }\n",
       "\n",
       "    .dataframe tbody tr th {\n",
       "        vertical-align: top;\n",
       "    }\n",
       "\n",
       "    .dataframe thead th {\n",
       "        text-align: right;\n",
       "    }\n",
       "</style>\n",
       "<table border=\"1\" class=\"dataframe\">\n",
       "  <thead>\n",
       "    <tr style=\"text-align: right;\">\n",
       "      <th></th>\n",
       "      <th>trip_id</th>\n",
       "      <th>device_id</th>\n",
       "      <th>vehicle_type</th>\n",
       "      <th>trip_duration</th>\n",
       "      <th>trip_distance</th>\n",
       "      <th>start_time</th>\n",
       "      <th>end_time</th>\n",
       "      <th>month</th>\n",
       "      <th>hour</th>\n",
       "      <th>day_of_week</th>\n",
       "      <th>year</th>\n",
       "      <th>census_geoid_start</th>\n",
       "      <th>census_geoid_end</th>\n",
       "    </tr>\n",
       "  </thead>\n",
       "  <tbody>\n",
       "    <tr>\n",
       "      <th>0</th>\n",
       "      <td>f33ffbe9-7462-4310-8d79-382842d4f374</td>\n",
       "      <td>61a22e55-d5b3-4fde-8d9a-ccaed12ce35c</td>\n",
       "      <td>scooter</td>\n",
       "      <td>2133</td>\n",
       "      <td>12794.0</td>\n",
       "      <td>2020-04-18T05:15:00.000</td>\n",
       "      <td>2020-04-18T05:45:00.000</td>\n",
       "      <td>4</td>\n",
       "      <td>5</td>\n",
       "      <td>5</td>\n",
       "      <td>2020</td>\n",
       "      <td>48453001100</td>\n",
       "      <td>48453001806</td>\n",
       "    </tr>\n",
       "    <tr>\n",
       "      <th>1</th>\n",
       "      <td>ddf0fa7c-41e2-43c4-b7ea-e4b7a323be78</td>\n",
       "      <td>f07ddca9-59b3-4ac0-a02b-459a42f8b58b</td>\n",
       "      <td>scooter</td>\n",
       "      <td>197</td>\n",
       "      <td>917.0</td>\n",
       "      <td>2020-04-18T05:30:00.000</td>\n",
       "      <td>2020-04-18T05:45:00.000</td>\n",
       "      <td>4</td>\n",
       "      <td>5</td>\n",
       "      <td>5</td>\n",
       "      <td>2020</td>\n",
       "      <td>48453000902</td>\n",
       "      <td>48453000902</td>\n",
       "    </tr>\n",
       "    <tr>\n",
       "      <th>2</th>\n",
       "      <td>2d895f0c-9586-4458-9e58-99cac4bc0191</td>\n",
       "      <td>8ced24e4-7396-4bd4-884a-fc7733ecfae3</td>\n",
       "      <td>scooter</td>\n",
       "      <td>721</td>\n",
       "      <td>3621.0</td>\n",
       "      <td>2020-04-18T05:15:00.000</td>\n",
       "      <td>2020-04-18T05:30:00.000</td>\n",
       "      <td>4</td>\n",
       "      <td>5</td>\n",
       "      <td>5</td>\n",
       "      <td>2020</td>\n",
       "      <td>48453000304</td>\n",
       "      <td>48453002105</td>\n",
       "    </tr>\n",
       "    <tr>\n",
       "      <th>3</th>\n",
       "      <td>b180f674-0e1d-4d78-9838-2b20a45bf9d2</td>\n",
       "      <td>1ed7b1f7-a174-422e-a4a2-d688e59732a9</td>\n",
       "      <td>scooter</td>\n",
       "      <td>214</td>\n",
       "      <td>788.0</td>\n",
       "      <td>2020-04-18T05:15:00.000</td>\n",
       "      <td>2020-04-18T05:15:00.000</td>\n",
       "      <td>4</td>\n",
       "      <td>5</td>\n",
       "      <td>5</td>\n",
       "      <td>2020</td>\n",
       "      <td>48453001901</td>\n",
       "      <td>48453001901</td>\n",
       "    </tr>\n",
       "    <tr>\n",
       "      <th>4</th>\n",
       "      <td>aa2bc2f8-fd08-4e58-85c4-90c44be2fe4d</td>\n",
       "      <td>4da13a13-db11-4610-a844-97a19d82fefa</td>\n",
       "      <td>scooter</td>\n",
       "      <td>622</td>\n",
       "      <td>3009.0</td>\n",
       "      <td>2020-04-18T05:00:00.000</td>\n",
       "      <td>2020-04-18T05:15:00.000</td>\n",
       "      <td>4</td>\n",
       "      <td>5</td>\n",
       "      <td>5</td>\n",
       "      <td>2020</td>\n",
       "      <td>48453000601</td>\n",
       "      <td>48453000304</td>\n",
       "    </tr>\n",
       "  </tbody>\n",
       "</table>\n",
       "</div>"
      ],
      "text/plain": [
       "                                trip_id                             device_id  \\\n",
       "0  f33ffbe9-7462-4310-8d79-382842d4f374  61a22e55-d5b3-4fde-8d9a-ccaed12ce35c   \n",
       "1  ddf0fa7c-41e2-43c4-b7ea-e4b7a323be78  f07ddca9-59b3-4ac0-a02b-459a42f8b58b   \n",
       "2  2d895f0c-9586-4458-9e58-99cac4bc0191  8ced24e4-7396-4bd4-884a-fc7733ecfae3   \n",
       "3  b180f674-0e1d-4d78-9838-2b20a45bf9d2  1ed7b1f7-a174-422e-a4a2-d688e59732a9   \n",
       "4  aa2bc2f8-fd08-4e58-85c4-90c44be2fe4d  4da13a13-db11-4610-a844-97a19d82fefa   \n",
       "\n",
       "  vehicle_type  trip_duration  trip_distance               start_time  \\\n",
       "0      scooter           2133        12794.0  2020-04-18T05:15:00.000   \n",
       "1      scooter            197          917.0  2020-04-18T05:30:00.000   \n",
       "2      scooter            721         3621.0  2020-04-18T05:15:00.000   \n",
       "3      scooter            214          788.0  2020-04-18T05:15:00.000   \n",
       "4      scooter            622         3009.0  2020-04-18T05:00:00.000   \n",
       "\n",
       "                  end_time  month  hour  day_of_week  year census_geoid_start  \\\n",
       "0  2020-04-18T05:45:00.000      4     5            5  2020        48453001100   \n",
       "1  2020-04-18T05:45:00.000      4     5            5  2020        48453000902   \n",
       "2  2020-04-18T05:30:00.000      4     5            5  2020        48453000304   \n",
       "3  2020-04-18T05:15:00.000      4     5            5  2020        48453001901   \n",
       "4  2020-04-18T05:15:00.000      4     5            5  2020        48453000601   \n",
       "\n",
       "  census_geoid_end  \n",
       "0      48453001806  \n",
       "1      48453000902  \n",
       "2      48453002105  \n",
       "3      48453001901  \n",
       "4      48453000304  "
      ]
     },
     "execution_count": 3,
     "metadata": {},
     "output_type": "execute_result"
    }
   ],
   "source": [
    "df_2020 = pd.read_csv(\"../data/2020data.csv\", low_memory=False)\n",
    "df_2020.head()"
   ]
  },
  {
   "cell_type": "code",
   "execution_count": 4,
   "metadata": {},
   "outputs": [
    {
     "data": {
      "image/png": "[encoded data removed]",
      "text/plain": [
       "<Figure size 720x360 with 1 Axes>"
      ]
     },
     "metadata": {
      "needs_background": "light"
     },
     "output_type": "display_data"
    }
   ],
   "source": [
    "monthly_total_2019 = pd.DataFrame(df_2019[\"month\"].value_counts()).sort_index()\n",
    "import calendar\n",
    "\n",
    "mn = [calendar.month_name[int(x)] for x in monthly_total_2019.index.values.tolist()]\n",
    "\n",
    "monthly_chart = monthly_total_2019.plot.bar(\n",
    "    title=\"Total Trips per Month in 2019\",\n",
    "    width=0.7,\n",
    "    figsize=(10, 5),\n",
    "    rot=30,\n",
    "    legend=False,\n",
    "    color=\"tab:orange\",\n",
    ")\n",
    "monthly_chart.set_xticklabels(mn)\n",
    "monthly_chart.set_xlabel(\"Months\")\n",
    "monthly_chart.set_ylabel(\"Total Trip Count\")\n",
    "plt.show()"
   ]
  },
  {
   "cell_type": "code",
   "execution_count": 5,
   "metadata": {},
   "outputs": [
    {
     "data": {
      "image/png": "[encoded data removed]",
      "text/plain": [
       "<Figure size 720x360 with 1 Axes>"
      ]
     },
     "metadata": {
      "needs_background": "light"
     },
     "output_type": "display_data"
    }
   ],
   "source": [
    "monthly_total_2020 = pd.DataFrame(df_2020[\"month\"].value_counts()).sort_index()\n",
    "import calendar\n",
    "\n",
    "mn = [calendar.month_name[int(x)] for x in monthly_total_2020.index.values.tolist()]\n",
    "\n",
    "monthly_chart = monthly_total_2020.plot.bar(\n",
    "    title=\"Total Trips per Month in 2020\",\n",
    "    width=0.7,\n",
    "    figsize=(10, 5),\n",
    "    rot=30,\n",
    "    legend=False,\n",
    "    color=\"tab:orange\",\n",
    ")\n",
    "monthly_chart.set_xticklabels(mn)\n",
    "monthly_chart.set_xlabel(\"Months\")\n",
    "monthly_chart.set_ylabel(\"Total Trip Count\")\n",
    "plt.show()"
   ]
  },
  {
   "cell_type": "code",
   "execution_count": 6,
   "metadata": {},
   "outputs": [],
   "source": [
    "vehicle_type_2020 = df_2020.groupby([\"vehicle_type\"])[[\"trip_id\"]].count()\n",
    "vehicle_type_2019 = df_2019.groupby([\"vehicle_type\"])[[\"trip_id\"]].count()"
   ]
  },
  {
   "cell_type": "code",
   "execution_count": 7,
   "metadata": {},
   "outputs": [
    {
     "data": {
      "image/png": "[encoded data removed]",
      "text/plain": [
       "<Figure size 432x288 with 2 Axes>"
      ]
     },
     "metadata": {
      "needs_background": "light"
     },
     "output_type": "display_data"
    }
   ],
   "source": [
    "fig, (ax, ax2) = plt.subplots(ncols=2, sharey=True)\n",
    "\n",
    "ax.invert_xaxis()\n",
    "ax.yaxis.tick_right()\n",
    "\n",
    "vehicle_type_2019[\"trip_id\"].plot(kind=\"bar\", ax=ax, color=\"tab:orange\")\n",
    "vehicle_type_2020[\"trip_id\"].plot(kind=\"bar\", ax=ax2, color=\"tab:orange\")\n",
    "ax.set_yscale(\"log\")\n",
    "ax2.set_yscale(\"log\")\n",
    "ax.set_xlabel(\"Vehicle Types\")\n",
    "ax2.set_xlabel(\"Vehicle Types\")\n",
    "ax.set_title(\"2019\")\n",
    "ax2.set_title(\"2020\")\n",
    "\n",
    "plt.show()"
   ]
  },
  {
   "cell_type": "code",
   "execution_count": null,
   "metadata": {},
   "outputs": [],
   "source": [
    "# Plot the census tracts from the US Census Bureau's shapefile using geopandas.\n",
    "from shapely.geometry import Point, LineString\n",
    "import fiona; \n",
    "\n",
    "map_df = gpd.read_file(\"../data/tl_2019_48_tract/tl_2019_48_tract.shp\")\n",
    "map_df[\"INTPTLAT\"] = map_df[\"INTPTLAT\"].str.replace(\"+\", \"\")\n",
    "map_df.head(1)"
   ]
  },
  {
   "cell_type": "code",
   "execution_count": null,
   "metadata": {},
   "outputs": [],
   "source": [
    "# Read Austin Streetlines shapefile:\n",
    "streets = gpd.read_file(\n",
    "    \"../data/Street Centerline/geo_export_c8b73b25-2ed4-4cce-b27a-5b77fe19ba06.shp\"\n",
    ")\n",
    "streets = streets.to_crs(map_df.crs)"
   ]
  },
  {
   "cell_type": "code",
   "execution_count": 19,
   "metadata": {},
   "outputs": [],
   "source": [
    "# Count how many trips started in each census GEOID tract\n",
    "census_trip_start = pd.DataFrame(\n",
    "    df_2020[\"census_geoid_start\"].value_counts()\n",
    ").reset_index()\n",
    "\n",
    "# Count how many trips ended in each census GEOID tract\n",
    "census_trip_end = pd.DataFrame(df_2020[\"census_geoid_end\"].value_counts())"
   ]
  },
  {
   "cell_type": "code",
   "execution_count": 20,
   "metadata": {},
   "outputs": [],
   "source": [
    "census_trip_start = census_trip_start.rename(\n",
    "    columns={\"index\": \"GEOID\", \"census_geoid_start\": \"total_count\"}\n",
    ")"
   ]
  },
  {
   "cell_type": "code",
   "execution_count": 21,
   "metadata": {},
   "outputs": [
    {
     "data": {
      "text/plain": [
       "GEOID          object\n",
       "total_count     int64\n",
       "dtype: object"
      ]
     },
     "execution_count": 21,
     "metadata": {},
     "output_type": "execute_result"
    }
   ],
   "source": [
    "census_trip_start.dtypes"
   ]
  },
  {
   "cell_type": "code",
   "execution_count": 22,
   "metadata": {},
   "outputs": [],
   "source": [
    "census_trip_start = census_trip_start.drop(census_trip_start.index[58])"
   ]
  },
  {
   "cell_type": "code",
   "execution_count": null,
   "metadata": {},
   "outputs": [],
   "source": [
    "# Match the datatypes\n",
    "map_df[\"GEOID\"] = map_df[\"GEOID\"].astype(\"int64\")\n",
    "map_df[[\"INTPTLAT\", \"INTPTLON\"]] = map_df[[\"INTPTLAT\", \"INTPTLON\"]].astype(\"float64\")\n",
    "census_trip_start[\"GEOID\"] = census_trip_start[\"GEOID\"].astype(int)"
   ]
  },
  {
   "cell_type": "code",
   "execution_count": null,
   "metadata": {},
   "outputs": [],
   "source": [
    "census_trip_start.dtypes"
   ]
  },
  {
   "cell_type": "code",
   "execution_count": null,
   "metadata": {},
   "outputs": [],
   "source": [
    "# Merge the geodataframe with the census starts dataframe\n",
    "starts_plot = pd.merge(map_df, census_trip_start, how=\"inner\")\n",
    "starts_plot"
   ]
  },
  {
   "cell_type": "code",
   "execution_count": null,
   "metadata": {},
   "outputs": [],
   "source": [
    "# Create a plot using geopandas and choropleth of census tract starts\n",
    "_, ax = plt.subplots(figsize=(18, 18))\n",
    "\n",
    "\n",
    "vmax_start = 200000\n",
    "vmin_start = 0\n",
    "# Render the glyphs:\n",
    "map_df.plot(ax=ax, color=\"grey\", edgecolor=\"blue\", alpha=0.2)\n",
    "starts_plot.plot(\n",
    "    ax=ax,\n",
    "    column=\"total_count\",\n",
    "    cmap=\"YlGn\",\n",
    "    linewidth=0.8,\n",
    "    edgecolor=\"0.8\",\n",
    "    vmax=vmax_start,\n",
    "    vmin=vmin_start,\n",
    ")\n",
    "streets.plot(ax=ax, color=\"turquoise\", alpha=0.2)\n",
    "\n",
    "# Label census tracts\n",
    "for idx, row in map_df.iterrows():\n",
    "    plt.annotate(\n",
    "        text=row[\"TRACTCE\"],\n",
    "        xy=(row[\"INTPTLON\"], row[\"INTPTLAT\"]),\n",
    "        horizontalalignment=\"center\",\n",
    "        clip_on=True,\n",
    "    )\n",
    "\n",
    "# Set the limits of the plot\n",
    "# To get a zommed out view use: (-97.919881, -97.589348, 30.139918,30.426626)\n",
    "# For zoomed map use : (-97.81, -97.68, 30.22, 30.325)\n",
    "bbox = (-97.81, -97.68, 30.20, 30.33)\n",
    "plt.xlim(bbox[0], bbox[1])\n",
    "plt.ylim(bbox[2], bbox[3])\n",
    "\n",
    "\n",
    "# plt.axis(\"off\")\n",
    "plt.title(\"Popular Census Tracts to START a ride - 2020\", fontsize=20)\n",
    "sm_start = plt.cm.ScalarMappable(\n",
    "    cmap=\"YlGn\", norm=plt.Normalize(vmin=vmin_start, vmax=vmax_start)\n",
    ")\n",
    "\n",
    "plt.colorbar(sm_start, fraction=0.015, aspect=50)\n",
    "plt.savefig(\"../img/choropeth_tractstart_2020.png\")\n",
    "plt.show()"
   ]
  },
  {
   "cell_type": "code",
   "execution_count": 13,
   "metadata": {},
   "outputs": [
    {
     "data": {
      "text/plain": [
       "['January',\n",
       " 'February',\n",
       " 'March',\n",
       " 'April',\n",
       " 'May',\n",
       " 'June',\n",
       " 'July',\n",
       " 'August',\n",
       " 'September',\n",
       " 'October',\n",
       " 'November',\n",
       " 'December']"
      ]
     },
     "execution_count": 13,
     "metadata": {},
     "output_type": "execute_result"
    }
   ],
   "source": [
    "mn"
   ]
  },
  {
   "cell_type": "code",
   "execution_count": 24,
   "metadata": {},
   "outputs": [
    {
     "ename": "ValueError",
     "evalue": "\nInvalid named renderer(s) received: ['jupyternotebook']",
     "output_type": "error",
     "traceback": [
      "\u001b[0;31m---------------------------------------------------------------------------\u001b[0m",
      "\u001b[0;31mValueError\u001b[0m                                Traceback (most recent call last)",
      "\u001b[0;32m<ipython-input-24-5ed8e190fa1b>\u001b[0m in \u001b[0;36m<module>\u001b[0;34m\u001b[0m\n\u001b[1;32m      5\u001b[0m \u001b[0;34m\u001b[0m\u001b[0m\n\u001b[1;32m      6\u001b[0m \u001b[0mpio\u001b[0m\u001b[0;34m.\u001b[0m\u001b[0mrenderers\u001b[0m\u001b[0;34m\u001b[0m\u001b[0;34m\u001b[0m\u001b[0m\n\u001b[0;32m----> 7\u001b[0;31m \u001b[0mpio\u001b[0m\u001b[0;34m.\u001b[0m\u001b[0mrenderers\u001b[0m\u001b[0;34m.\u001b[0m\u001b[0mdefault\u001b[0m \u001b[0;34m=\u001b[0m \u001b[0;34m\"jupyternotebook\"\u001b[0m\u001b[0;34m\u001b[0m\u001b[0;34m\u001b[0m\u001b[0m\n\u001b[0m",
      "\u001b[0;32m~/.local/share/virtualenvs/Austin-Scooter-Rides-2019-Vs-2020-bH_lqV2_/lib/python3.8/site-packages/plotly/io/_renderers.py\u001b[0m in \u001b[0;36mdefault\u001b[0;34m(self, value)\u001b[0m\n\u001b[1;32m    151\u001b[0m \u001b[0;34m\u001b[0m\u001b[0m\n\u001b[1;32m    152\u001b[0m         \u001b[0;31m# Store defaults name and list of renderer(s)\u001b[0m\u001b[0;34m\u001b[0m\u001b[0;34m\u001b[0m\u001b[0;34m\u001b[0m\u001b[0m\n\u001b[0;32m--> 153\u001b[0;31m         \u001b[0mrenderer_names\u001b[0m \u001b[0;34m=\u001b[0m \u001b[0mself\u001b[0m\u001b[0;34m.\u001b[0m\u001b[0m_validate_coerce_renderers\u001b[0m\u001b[0;34m(\u001b[0m\u001b[0mvalue\u001b[0m\u001b[0;34m)\u001b[0m\u001b[0;34m\u001b[0m\u001b[0;34m\u001b[0m\u001b[0m\n\u001b[0m\u001b[1;32m    154\u001b[0m         \u001b[0mself\u001b[0m\u001b[0;34m.\u001b[0m\u001b[0m_default_name\u001b[0m \u001b[0;34m=\u001b[0m \u001b[0mvalue\u001b[0m\u001b[0;34m\u001b[0m\u001b[0;34m\u001b[0m\u001b[0m\n\u001b[1;32m    155\u001b[0m         \u001b[0mself\u001b[0m\u001b[0;34m.\u001b[0m\u001b[0m_default_renderers\u001b[0m \u001b[0;34m=\u001b[0m \u001b[0;34m[\u001b[0m\u001b[0mself\u001b[0m\u001b[0;34m[\u001b[0m\u001b[0mname\u001b[0m\u001b[0;34m]\u001b[0m \u001b[0;32mfor\u001b[0m \u001b[0mname\u001b[0m \u001b[0;32min\u001b[0m \u001b[0mrenderer_names\u001b[0m\u001b[0;34m]\u001b[0m\u001b[0;34m\u001b[0m\u001b[0;34m\u001b[0m\u001b[0m\n",
      "\u001b[0;32m~/.local/share/virtualenvs/Austin-Scooter-Rides-2019-Vs-2020-bH_lqV2_/lib/python3.8/site-packages/plotly/io/_renderers.py\u001b[0m in \u001b[0;36m_validate_coerce_renderers\u001b[0;34m(self, renderers_string)\u001b[0m\n\u001b[1;32m    218\u001b[0m         \u001b[0minvalid\u001b[0m \u001b[0;34m=\u001b[0m \u001b[0;34m[\u001b[0m\u001b[0mname\u001b[0m \u001b[0;32mfor\u001b[0m \u001b[0mname\u001b[0m \u001b[0;32min\u001b[0m \u001b[0mrenderer_names\u001b[0m \u001b[0;32mif\u001b[0m \u001b[0mname\u001b[0m \u001b[0;32mnot\u001b[0m \u001b[0;32min\u001b[0m \u001b[0mself\u001b[0m\u001b[0;34m]\u001b[0m\u001b[0;34m\u001b[0m\u001b[0;34m\u001b[0m\u001b[0m\n\u001b[1;32m    219\u001b[0m         \u001b[0;32mif\u001b[0m \u001b[0minvalid\u001b[0m\u001b[0;34m:\u001b[0m\u001b[0;34m\u001b[0m\u001b[0;34m\u001b[0m\u001b[0m\n\u001b[0;32m--> 220\u001b[0;31m             raise ValueError(\n\u001b[0m\u001b[1;32m    221\u001b[0m                 \"\"\"\n\u001b[1;32m    222\u001b[0m Invalid named renderer(s) received: {}\"\"\".format(\n",
      "\u001b[0;31mValueError\u001b[0m: \nInvalid named renderer(s) received: ['jupyternotebook']"
     ]
    }
   ],
   "source": [
    "import plotly.graph_objects as go\n",
    "\n",
    "import plotly.io as pio\n",
    "\n",
    "\n",
    "pio.renderers\n",
    "pio.renderers.default = \"jupyternotebook\""
   ]
  },
  {
   "cell_type": "code",
   "execution_count": 25,
   "metadata": {},
   "outputs": [
    {
     "data": {
      "application/vnd.plotly.v1+json": {
       "config": {
        "plotlyServerURL": "https://plot.ly"
       },
       "data": [
        {
         "line": {
          "color": "#33CFA5"
         },
         "name": "2019",
         "type": "scatter",
         "x": [
          "January",
          "February",
          "March",
          "April",
          "May",
          "June",
          "July",
          "August",
          "September",
          "October",
          "November",
          "December"
         ],
         "y": [
          367731,
          440854,
          844626,
          581165,
          600894,
          493212,
          503421,
          496569,
          584938,
          532189,
          348625,
          243771
         ]
        },
        {
         "line": {
          "color": "#33CFA5",
          "dash": "dash"
         },
         "name": "High Average",
         "type": "scatter",
         "visible": false,
         "x": [
          "January",
          "February",
          "March",
          "April",
          "May",
          "June",
          "July",
          "August",
          "September",
          "October",
          "November",
          "December"
         ],
         "y": [
          367731,
          440854,
          844626,
          581165,
          600894,
          493212,
          503421,
          496569,
          584938,
          532189,
          348625,
          243771
         ]
        },
        {
         "line": {
          "color": "#F06A6A"
         },
         "name": "2020",
         "type": "scatter",
         "x": [
          "January",
          "February",
          "March",
          "April",
          "May",
          "June",
          "July",
          "August",
          "September",
          "October",
          "November",
          "December"
         ],
         "y": [
          245573,
          288335,
          182584,
          15534,
          30298,
          56073,
          59324,
          191354,
          206453,
          229321,
          180138,
          111952
         ]
        },
        {
         "line": {
          "color": "#F06A6A",
          "dash": "dash"
         },
         "name": "Low Average",
         "type": "scatter",
         "visible": false,
         "x": [
          "January",
          "February",
          "March",
          "April",
          "May",
          "June",
          "July",
          "August",
          "September",
          "October",
          "November",
          "December"
         ],
         "y": [
          245573,
          288335,
          182584,
          15534,
          30298,
          56073,
          59324,
          191354,
          206453,
          229321,
          180138,
          111952
         ]
        }
       ],
       "layout": {
        "template": {
         "data": {
          "bar": [
           {
            "error_x": {
             "color": "#2a3f5f"
            },
            "error_y": {
             "color": "#2a3f5f"
            },
            "marker": {
             "line": {
              "color": "#E5ECF6",
              "width": 0.5
             }
            },
            "type": "bar"
           }
          ],
          "barpolar": [
           {
            "marker": {
             "line": {
              "color": "#E5ECF6",
              "width": 0.5
             }
            },
            "type": "barpolar"
           }
          ],
          "carpet": [
           {
            "aaxis": {
             "endlinecolor": "#2a3f5f",
             "gridcolor": "white",
             "linecolor": "white",
             "minorgridcolor": "white",
             "startlinecolor": "#2a3f5f"
            },
            "baxis": {
             "endlinecolor": "#2a3f5f",
             "gridcolor": "white",
             "linecolor": "white",
             "minorgridcolor": "white",
             "startlinecolor": "#2a3f5f"
            },
            "type": "carpet"
           }
          ],
          "choropleth": [
           {
            "colorbar": {
             "outlinewidth": 0,
             "ticks": ""
            },
            "type": "choropleth"
           }
          ],
          "contour": [
           {
            "colorbar": {
             "outlinewidth": 0,
             "ticks": ""
            },
            "colorscale": [
             [
              0,
              "#0d0887"
             ],
             [
              0.1111111111111111,
              "#46039f"
             ],
             [
              0.2222222222222222,
              "#7201a8"
             ],
             [
              0.3333333333333333,
              "#9c179e"
             ],
             [
              0.4444444444444444,
              "#bd3786"
             ],
             [
              0.5555555555555556,
              "#d8576b"
             ],
             [
              0.6666666666666666,
              "#ed7953"
             ],
             [
              0.7777777777777778,
              "#fb9f3a"
             ],
             [
              0.8888888888888888,
              "#fdca26"
             ],
             [
              1,
              "#f0f921"
             ]
            ],
            "type": "contour"
           }
          ],
          "contourcarpet": [
           {
            "colorbar": {
             "outlinewidth": 0,
             "ticks": ""
            },
            "type": "contourcarpet"
           }
          ],
          "heatmap": [
           {
            "colorbar": {
             "outlinewidth": 0,
             "ticks": ""
            },
            "colorscale": [
             [
              0,
              "#0d0887"
             ],
             [
              0.1111111111111111,
              "#46039f"
             ],
             [
              0.2222222222222222,
              "#7201a8"
             ],
             [
              0.3333333333333333,
              "#9c179e"
             ],
             [
              0.4444444444444444,
              "#bd3786"
             ],
             [
              0.5555555555555556,
              "#d8576b"
             ],
             [
              0.6666666666666666,
              "#ed7953"
             ],
             [
              0.7777777777777778,
              "#fb9f3a"
             ],
             [
              0.8888888888888888,
              "#fdca26"
             ],
             [
              1,
              "#f0f921"
             ]
            ],
            "type": "heatmap"
           }
          ],
          "heatmapgl": [
           {
            "colorbar": {
             "outlinewidth": 0,
             "ticks": ""
            },
            "colorscale": [
             [
              0,
              "#0d0887"
             ],
             [
              0.1111111111111111,
              "#46039f"
             ],
             [
              0.2222222222222222,
              "#7201a8"
             ],
             [
              0.3333333333333333,
              "#9c179e"
             ],
             [
              0.4444444444444444,
              "#bd3786"
             ],
             [
              0.5555555555555556,
              "#d8576b"
             ],
             [
              0.6666666666666666,
              "#ed7953"
             ],
             [
              0.7777777777777778,
              "#fb9f3a"
             ],
             [
              0.8888888888888888,
              "#fdca26"
             ],
             [
              1,
              "#f0f921"
             ]
            ],
            "type": "heatmapgl"
           }
          ],
          "histogram": [
           {
            "marker": {
             "colorbar": {
              "outlinewidth": 0,
              "ticks": ""
             }
            },
            "type": "histogram"
           }
          ],
          "histogram2d": [
           {
            "colorbar": {
             "outlinewidth": 0,
             "ticks": ""
            },
            "colorscale": [
             [
              0,
              "#0d0887"
             ],
             [
              0.1111111111111111,
              "#46039f"
             ],
             [
              0.2222222222222222,
              "#7201a8"
             ],
             [
              0.3333333333333333,
              "#9c179e"
             ],
             [
              0.4444444444444444,
              "#bd3786"
             ],
             [
              0.5555555555555556,
              "#d8576b"
             ],
             [
              0.6666666666666666,
              "#ed7953"
             ],
             [
              0.7777777777777778,
              "#fb9f3a"
             ],
             [
              0.8888888888888888,
              "#fdca26"
             ],
             [
              1,
              "#f0f921"
             ]
            ],
            "type": "histogram2d"
           }
          ],
          "histogram2dcontour": [
           {
            "colorbar": {
             "outlinewidth": 0,
             "ticks": ""
            },
            "colorscale": [
             [
              0,
              "#0d0887"
             ],
             [
              0.1111111111111111,
              "#46039f"
             ],
             [
              0.2222222222222222,
              "#7201a8"
             ],
             [
              0.3333333333333333,
              "#9c179e"
             ],
             [
              0.4444444444444444,
              "#bd3786"
             ],
             [
              0.5555555555555556,
              "#d8576b"
             ],
             [
              0.6666666666666666,
              "#ed7953"
             ],
             [
              0.7777777777777778,
              "#fb9f3a"
             ],
             [
              0.8888888888888888,
              "#fdca26"
             ],
             [
              1,
              "#f0f921"
             ]
            ],
            "type": "histogram2dcontour"
           }
          ],
          "mesh3d": [
           {
            "colorbar": {
             "outlinewidth": 0,
             "ticks": ""
            },
            "type": "mesh3d"
           }
          ],
          "parcoords": [
           {
            "line": {
             "colorbar": {
              "outlinewidth": 0,
              "ticks": ""
             }
            },
            "type": "parcoords"
           }
          ],
          "pie": [
           {
            "automargin": true,
            "type": "pie"
           }
          ],
          "scatter": [
           {
            "marker": {
             "colorbar": {
              "outlinewidth": 0,
              "ticks": ""
             }
            },
            "type": "scatter"
           }
          ],
          "scatter3d": [
           {
            "line": {
             "colorbar": {
              "outlinewidth": 0,
              "ticks": ""
             }
            },
            "marker": {
             "colorbar": {
              "outlinewidth": 0,
              "ticks": ""
             }
            },
            "type": "scatter3d"
           }
          ],
          "scattercarpet": [
           {
            "marker": {
             "colorbar": {
              "outlinewidth": 0,
              "ticks": ""
             }
            },
            "type": "scattercarpet"
           }
          ],
          "scattergeo": [
           {
            "marker": {
             "colorbar": {
              "outlinewidth": 0,
              "ticks": ""
             }
            },
            "type": "scattergeo"
           }
          ],
          "scattergl": [
           {
            "marker": {
             "colorbar": {
              "outlinewidth": 0,
              "ticks": ""
             }
            },
            "type": "scattergl"
           }
          ],
          "scattermapbox": [
           {
            "marker": {
             "colorbar": {
              "outlinewidth": 0,
              "ticks": ""
             }
            },
            "type": "scattermapbox"
           }
          ],
          "scatterpolar": [
           {
            "marker": {
             "colorbar": {
              "outlinewidth": 0,
              "ticks": ""
             }
            },
            "type": "scatterpolar"
           }
          ],
          "scatterpolargl": [
           {
            "marker": {
             "colorbar": {
              "outlinewidth": 0,
              "ticks": ""
             }
            },
            "type": "scatterpolargl"
           }
          ],
          "scatterternary": [
           {
            "marker": {
             "colorbar": {
              "outlinewidth": 0,
              "ticks": ""
             }
            },
            "type": "scatterternary"
           }
          ],
          "surface": [
           {
            "colorbar": {
             "outlinewidth": 0,
             "ticks": ""
            },
            "colorscale": [
             [
              0,
              "#0d0887"
             ],
             [
              0.1111111111111111,
              "#46039f"
             ],
             [
              0.2222222222222222,
              "#7201a8"
             ],
             [
              0.3333333333333333,
              "#9c179e"
             ],
             [
              0.4444444444444444,
              "#bd3786"
             ],
             [
              0.5555555555555556,
              "#d8576b"
             ],
             [
              0.6666666666666666,
              "#ed7953"
             ],
             [
              0.7777777777777778,
              "#fb9f3a"
             ],
             [
              0.8888888888888888,
              "#fdca26"
             ],
             [
              1,
              "#f0f921"
             ]
            ],
            "type": "surface"
           }
          ],
          "table": [
           {
            "cells": {
             "fill": {
              "color": "#EBF0F8"
             },
             "line": {
              "color": "white"
             }
            },
            "header": {
             "fill": {
              "color": "#C8D4E3"
             },
             "line": {
              "color": "white"
             }
            },
            "type": "table"
           }
          ]
         },
         "layout": {
          "annotationdefaults": {
           "arrowcolor": "#2a3f5f",
           "arrowhead": 0,
           "arrowwidth": 1
          },
          "autotypenumbers": "strict",
          "coloraxis": {
           "colorbar": {
            "outlinewidth": 0,
            "ticks": ""
           }
          },
          "colorscale": {
           "diverging": [
            [
             0,
             "#8e0152"
            ],
            [
             0.1,
             "#c51b7d"
            ],
            [
             0.2,
             "#de77ae"
            ],
            [
             0.3,
             "#f1b6da"
            ],
            [
             0.4,
             "#fde0ef"
            ],
            [
             0.5,
             "#f7f7f7"
            ],
            [
             0.6,
             "#e6f5d0"
            ],
            [
             0.7,
             "#b8e186"
            ],
            [
             0.8,
             "#7fbc41"
            ],
            [
             0.9,
             "#4d9221"
            ],
            [
             1,
             "#276419"
            ]
           ],
           "sequential": [
            [
             0,
             "#0d0887"
            ],
            [
             0.1111111111111111,
             "#46039f"
            ],
            [
             0.2222222222222222,
             "#7201a8"
            ],
            [
             0.3333333333333333,
             "#9c179e"
            ],
            [
             0.4444444444444444,
             "#bd3786"
            ],
            [
             0.5555555555555556,
             "#d8576b"
            ],
            [
             0.6666666666666666,
             "#ed7953"
            ],
            [
             0.7777777777777778,
             "#fb9f3a"
            ],
            [
             0.8888888888888888,
             "#fdca26"
            ],
            [
             1,
             "#f0f921"
            ]
           ],
           "sequentialminus": [
            [
             0,
             "#0d0887"
            ],
            [
             0.1111111111111111,
             "#46039f"
            ],
            [
             0.2222222222222222,
             "#7201a8"
            ],
            [
             0.3333333333333333,
             "#9c179e"
            ],
            [
             0.4444444444444444,
             "#bd3786"
            ],
            [
             0.5555555555555556,
             "#d8576b"
            ],
            [
             0.6666666666666666,
             "#ed7953"
            ],
            [
             0.7777777777777778,
             "#fb9f3a"
            ],
            [
             0.8888888888888888,
             "#fdca26"
            ],
            [
             1,
             "#f0f921"
            ]
           ]
          },
          "colorway": [
           "#636efa",
           "#EF553B",
           "#00cc96",
           "#ab63fa",
           "#FFA15A",
           "#19d3f3",
           "#FF6692",
           "#B6E880",
           "#FF97FF",
           "#FECB52"
          ],
          "font": {
           "color": "#2a3f5f"
          },
          "geo": {
           "bgcolor": "white",
           "lakecolor": "white",
           "landcolor": "#E5ECF6",
           "showlakes": true,
           "showland": true,
           "subunitcolor": "white"
          },
          "hoverlabel": {
           "align": "left"
          },
          "hovermode": "closest",
          "mapbox": {
           "style": "light"
          },
          "paper_bgcolor": "white",
          "plot_bgcolor": "#E5ECF6",
          "polar": {
           "angularaxis": {
            "gridcolor": "white",
            "linecolor": "white",
            "ticks": ""
           },
           "bgcolor": "#E5ECF6",
           "radialaxis": {
            "gridcolor": "white",
            "linecolor": "white",
            "ticks": ""
           }
          },
          "scene": {
           "xaxis": {
            "backgroundcolor": "#E5ECF6",
            "gridcolor": "white",
            "gridwidth": 2,
            "linecolor": "white",
            "showbackground": true,
            "ticks": "",
            "zerolinecolor": "white"
           },
           "yaxis": {
            "backgroundcolor": "#E5ECF6",
            "gridcolor": "white",
            "gridwidth": 2,
            "linecolor": "white",
            "showbackground": true,
            "ticks": "",
            "zerolinecolor": "white"
           },
           "zaxis": {
            "backgroundcolor": "#E5ECF6",
            "gridcolor": "white",
            "gridwidth": 2,
            "linecolor": "white",
            "showbackground": true,
            "ticks": "",
            "zerolinecolor": "white"
           }
          },
          "shapedefaults": {
           "line": {
            "color": "#2a3f5f"
           }
          },
          "ternary": {
           "aaxis": {
            "gridcolor": "white",
            "linecolor": "white",
            "ticks": ""
           },
           "baxis": {
            "gridcolor": "white",
            "linecolor": "white",
            "ticks": ""
           },
           "bgcolor": "#E5ECF6",
           "caxis": {
            "gridcolor": "white",
            "linecolor": "white",
            "ticks": ""
           }
          },
          "title": {
           "x": 0.05
          },
          "xaxis": {
           "automargin": true,
           "gridcolor": "white",
           "linecolor": "white",
           "ticks": "",
           "title": {
            "standoff": 15
           },
           "zerolinecolor": "white",
           "zerolinewidth": 2
          },
          "yaxis": {
           "automargin": true,
           "gridcolor": "white",
           "linecolor": "white",
           "ticks": "",
           "title": {
            "standoff": 15
           },
           "zerolinecolor": "white",
           "zerolinewidth": 2
          }
         }
        },
        "title": {
         "text": "Yearly comparisons"
        },
        "updatemenus": [
         {
          "active": 0,
          "buttons": [
           {
            "args": [
             {
              "visible": [
               true,
               false,
               true,
               false
              ]
             },
             {
              "annotations": [],
              "title": "Yahoo"
             }
            ],
            "label": "None",
            "method": "update"
           },
           {
            "args": [
             {
              "visible": [
               true,
               true,
               false,
               false
              ]
             },
             {
              "title": "Yahoo High"
             }
            ],
            "label": "High",
            "method": "update"
           },
           {
            "args": [
             {
              "visible": [
               false,
               false,
               true,
               true
              ]
             },
             {
              "title": "Yahoo Low"
             }
            ],
            "label": "Low",
            "method": "update"
           }
          ]
         }
        ]
       }
      }
     },
     "metadata": {},
     "output_type": "display_data"
    }
   ],
   "source": [
    "# Initialize figure\n",
    "fig = go.Figure()\n",
    "\n",
    "# Add Traces\n",
    "\n",
    "fig.add_trace(\n",
    "    go.Scatter(\n",
    "        x=mn, y=monthly_total_2019[\"month\"], name=\"2019\", line=dict(color=\"#33CFA5\")\n",
    "    )\n",
    ")\n",
    "\n",
    "fig.add_trace(\n",
    "    go.Scatter(\n",
    "        x=mn,\n",
    "        y=monthly_total_2019[\"month\"],\n",
    "        name=\"High Average\",\n",
    "        visible=False,\n",
    "        line=dict(color=\"#33CFA5\", dash=\"dash\"),\n",
    "    )\n",
    ")\n",
    "\n",
    "fig.add_trace(\n",
    "    go.Scatter(\n",
    "        x=mn, y=monthly_total_2020[\"month\"], name=\"2020\", line=dict(color=\"#F06A6A\")\n",
    "    )\n",
    ")\n",
    "\n",
    "fig.add_trace(\n",
    "    go.Scatter(\n",
    "        x=mn,\n",
    "        y=monthly_total_2020[\"month\"],\n",
    "        name=\"Low Average\",\n",
    "        visible=False,\n",
    "        line=dict(color=\"#F06A6A\", dash=\"dash\"),\n",
    "    )\n",
    ")\n",
    "\n",
    "# # Add Annotations and Buttons\n",
    "# high_annotations = [dict(x=\"2016-03-01\",\n",
    "#                          y=df.High.mean(),\n",
    "#                          xref=\"x\", yref=\"y\",\n",
    "#                          text=\"High Average:<br> %.3f\" % df.High.mean(),\n",
    "#                          ax=0, ay=-40),\n",
    "#                     dict(x=df.High.idxmax(),\n",
    "#                          y=df.High.max(),\n",
    "#                          xref=\"x\", yref=\"y\",\n",
    "#                          text=\"High Max:<br> %.3f\" % df.High.max(),\n",
    "#                          ax=0, ay=-40)]\n",
    "# low_annotations = [dict(x=\"2015-05-01\",\n",
    "#                         y=df.Low.mean(),\n",
    "#                         xref=\"x\", yref=\"y\",\n",
    "#                         text=\"Low Average:<br> %.3f\" % df.Low.mean(),\n",
    "#                         ax=0, ay=40),\n",
    "#                    dict(x=df.High.idxmin(),\n",
    "#                         y=df.Low.min(),\n",
    "#                         xref=\"x\", yref=\"y\",\n",
    "#                         text=\"Low Min:<br> %.3f\" % df.Low.min(),\n",
    "#                         ax=0, ay=40)]\n",
    "\n",
    "fig.update_layout(\n",
    "    updatemenus=[\n",
    "        dict(\n",
    "            active=0,\n",
    "            buttons=list(\n",
    "                [\n",
    "                    dict(\n",
    "                        label=\"None\",\n",
    "                        method=\"update\",\n",
    "                        args=[\n",
    "                            {\"visible\": [True, False, True, False]},\n",
    "                            {\"title\": \"Yahoo\", \"annotations\": []},\n",
    "                        ],\n",
    "                    ),\n",
    "                    dict(\n",
    "                        label=\"High\",\n",
    "                        method=\"update\",\n",
    "                        args=[\n",
    "                            {\"visible\": [True, True, False, False]},\n",
    "                            {\"title\": \"Yahoo High\"},\n",
    "                        ],\n",
    "                    ),\n",
    "                    dict(\n",
    "                        label=\"Low\",\n",
    "                        method=\"update\",\n",
    "                        args=[\n",
    "                            {\"visible\": [False, False, True, True]},\n",
    "                            {\"title\": \"Yahoo Low\"},\n",
    "                        ],\n",
    "                    ),\n",
    "                ]\n",
    "            ),\n",
    "        )\n",
    "    ]\n",
    ")\n",
    "\n",
    "# Set title\n",
    "fig.update_layout(title_text=\"Yearly comparisons\")\n",
    "\n",
    "fig.show()"
   ]
  },
  {
   "cell_type": "code",
   "execution_count": null,
   "metadata": {},
   "outputs": [],
   "source": []
  },
  {
   "cell_type": "code",
   "execution_count": null,
   "metadata": {},
   "outputs": [],
   "source": []
  },
  {
   "cell_type": "code",
   "execution_count": null,
   "metadata": {},
   "outputs": [],
   "source": []
  },
  {
   "cell_type": "code",
   "execution_count": null,
   "metadata": {},
   "outputs": [],
   "source": []
  },
  {
   "cell_type": "code",
   "execution_count": null,
   "metadata": {},
   "outputs": [],
   "source": []
  },
  {
   "cell_type": "code",
   "execution_count": null,
   "metadata": {},
   "outputs": [],
   "source": []
  },
  {
   "cell_type": "code",
   "execution_count": null,
   "metadata": {},
   "outputs": [],
   "source": []
  },
  {
   "cell_type": "code",
   "execution_count": null,
   "metadata": {},
   "outputs": [],
   "source": []
  },
  {
   "cell_type": "code",
   "execution_count": null,
   "metadata": {},
   "outputs": [],
   "source": []
  }
 ],
 "metadata": {
  "kernelspec": {
   "display_name": "Python 3",
   "language": "python",
   "name": "python3"
  },
  "language_info": {
   "codemirror_mode": {
    "name": "ipython",
    "version": 3
   },
   "file_extension": ".py",
   "mimetype": "text/x-python",
   "name": "python",
   "nbconvert_exporter": "python",
   "pygments_lexer": "ipython3",
   "version": "3.8.0"
  }
 },
 "nbformat": 4,
 "nbformat_minor": 4
}
